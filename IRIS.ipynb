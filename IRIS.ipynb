{
 "cells": [
  {
   "cell_type": "markdown",
   "metadata": {},
   "source": [
    "# IRIS"
   ]
  },
  {
   "cell_type": "code",
   "execution_count": 1,
   "metadata": {},
   "outputs": [],
   "source": [
    "import shapely\n",
    "import shapely.geometry\n",
    "from shapely.strtree import STRtree\n",
    "import shapefile\n",
    "import pandas as pd\n",
    "import numpy as np\n",
    "from math import sin, cos, sqrt, pow, log, pi, tan, exp\n",
    "from pyproj import Proj, transform, CRS\n",
    "import time"
   ]
  },
  {
   "cell_type": "code",
   "execution_count": 2,
   "metadata": {},
   "outputs": [
    {
     "name": "stderr",
     "output_type": "stream",
     "text": [
      "/home/guera/.local/lib/python3.6/site-packages/IPython/core/interactiveshell.py:3063: DtypeWarning: Columns (20) have mixed types.Specify dtype option on import or set low_memory=False.\n",
      "  interactivity=interactivity, compiler=compiler, result=result)\n"
     ]
    }
   ],
   "source": [
    "folder=\"/mnt/c/Users/guera/projects/E-CUBE\"\n",
    "\n",
    "poste_elec = pd.read_csv(folder+\"/data/postes-electriques-rte.csv\", sep=';')\n",
    "siren_eta_geo = pd.read_csv(folder+\"/data/SIREN/StockEtablissementActif_utf8_geo.csv\", sep=',',usecols=[\"siren\", \"siret\", \"codeCommuneEtablissement\", \"longitude\", \"latitude\"])\n",
    "siren_ul = pd.read_csv(folder+\"/data/SIREN/StockUniteLegale_utf8.csv\", sep=',',usecols=[\"siren\", \"categorieJuridiqueUniteLegale\"])"
   ]
  },
  {
   "cell_type": "markdown",
   "metadata": {},
   "source": [
    "On retire de la liste des établissements SIRENE les entreprises représentant des personnes physiques qui ne nous intéressent pas pour la consommation électrique"
   ]
  },
  {
   "cell_type": "code",
   "execution_count": 3,
   "metadata": {},
   "outputs": [],
   "source": [
    "siren = siren_eta_geo.merge(siren_ul)\n",
    "siren_without_auto = siren.loc[siren.loc[:, \"categorieJuridiqueUniteLegale\"] != 1000]"
   ]
  },
  {
   "cell_type": "code",
   "execution_count": 4,
   "metadata": {},
   "outputs": [
    {
     "data": {
      "text/plain": [
       "(11810235, 5)"
      ]
     },
     "execution_count": 4,
     "metadata": {},
     "output_type": "execute_result"
    }
   ],
   "source": [
    "siren_eta_geo.shape"
   ]
  },
  {
   "cell_type": "code",
   "execution_count": 5,
   "metadata": {},
   "outputs": [
    {
     "data": {
      "text/plain": [
       "(21111921, 2)"
      ]
     },
     "execution_count": 5,
     "metadata": {},
     "output_type": "execute_result"
    }
   ],
   "source": [
    "siren_ul.shape"
   ]
  },
  {
   "cell_type": "code",
   "execution_count": 6,
   "metadata": {},
   "outputs": [
    {
     "data": {
      "text/plain": [
       "(11810235, 6)"
      ]
     },
     "execution_count": 6,
     "metadata": {},
     "output_type": "execute_result"
    }
   ],
   "source": [
    "siren.shape"
   ]
  },
  {
   "cell_type": "code",
   "execution_count": 7,
   "metadata": {},
   "outputs": [
    {
     "data": {
      "text/plain": [
       "(7383430, 6)"
      ]
     },
     "execution_count": 7,
     "metadata": {},
     "output_type": "execute_result"
    }
   ],
   "source": [
    "siren_without_auto.shape"
   ]
  },
  {
   "cell_type": "code",
   "execution_count": 8,
   "metadata": {},
   "outputs": [
    {
     "data": {
      "text/html": [
       "<div>\n",
       "<style scoped>\n",
       "    .dataframe tbody tr th:only-of-type {\n",
       "        vertical-align: middle;\n",
       "    }\n",
       "\n",
       "    .dataframe tbody tr th {\n",
       "        vertical-align: top;\n",
       "    }\n",
       "\n",
       "    .dataframe thead th {\n",
       "        text-align: right;\n",
       "    }\n",
       "</style>\n",
       "<table border=\"1\" class=\"dataframe\">\n",
       "  <thead>\n",
       "    <tr style=\"text-align: right;\">\n",
       "      <th></th>\n",
       "      <th>siren</th>\n",
       "      <th>siret</th>\n",
       "      <th>codeCommuneEtablissement</th>\n",
       "      <th>longitude</th>\n",
       "      <th>latitude</th>\n",
       "      <th>categorieJuridiqueUniteLegale</th>\n",
       "    </tr>\n",
       "  </thead>\n",
       "  <tbody>\n",
       "    <tr>\n",
       "      <th>0</th>\n",
       "      <td>15850944</td>\n",
       "      <td>1585094400024</td>\n",
       "      <td>1376</td>\n",
       "      <td>4.989048</td>\n",
       "      <td>45.823935</td>\n",
       "      <td>5720</td>\n",
       "    </tr>\n",
       "    <tr>\n",
       "      <th>1</th>\n",
       "      <td>15850944</td>\n",
       "      <td>1585094400016</td>\n",
       "      <td>21295</td>\n",
       "      <td>4.992864</td>\n",
       "      <td>47.228989</td>\n",
       "      <td>5720</td>\n",
       "    </tr>\n",
       "    <tr>\n",
       "      <th>2</th>\n",
       "      <td>15851793</td>\n",
       "      <td>1585179300479</td>\n",
       "      <td>1134</td>\n",
       "      <td>4.904811</td>\n",
       "      <td>46.282463</td>\n",
       "      <td>5699</td>\n",
       "    </tr>\n",
       "    <tr>\n",
       "      <th>3</th>\n",
       "      <td>15851793</td>\n",
       "      <td>1585179300743</td>\n",
       "      <td>1057</td>\n",
       "      <td>4.913975</td>\n",
       "      <td>46.407388</td>\n",
       "      <td>5699</td>\n",
       "    </tr>\n",
       "    <tr>\n",
       "      <th>4</th>\n",
       "      <td>15851793</td>\n",
       "      <td>1585179300917</td>\n",
       "      <td>1053</td>\n",
       "      <td>5.228366</td>\n",
       "      <td>46.220760</td>\n",
       "      <td>5699</td>\n",
       "    </tr>\n",
       "  </tbody>\n",
       "</table>\n",
       "</div>"
      ],
      "text/plain": [
       "      siren          siret codeCommuneEtablissement  longitude   latitude  \\\n",
       "0  15850944  1585094400024                     1376   4.989048  45.823935   \n",
       "1  15850944  1585094400016                    21295   4.992864  47.228989   \n",
       "2  15851793  1585179300479                     1134   4.904811  46.282463   \n",
       "3  15851793  1585179300743                     1057   4.913975  46.407388   \n",
       "4  15851793  1585179300917                     1053   5.228366  46.220760   \n",
       "\n",
       "   categorieJuridiqueUniteLegale  \n",
       "0                           5720  \n",
       "1                           5720  \n",
       "2                           5699  \n",
       "3                           5699  \n",
       "4                           5699  "
      ]
     },
     "execution_count": 8,
     "metadata": {},
     "output_type": "execute_result"
    }
   ],
   "source": [
    "siren.head()"
   ]
  },
  {
   "cell_type": "markdown",
   "metadata": {},
   "source": [
    "On charge les contours d'IRIS pour la France métropolitaine puis pour les régions d'outre-mer"
   ]
  },
  {
   "cell_type": "code",
   "execution_count": 9,
   "metadata": {},
   "outputs": [],
   "source": [
    "file_name_metro=\"/mnt/c/Users/guera/projects/E-CUBE/data/CONTOURS-IRIS_2-1__SHP__FRA_2020-01-01/CONTOURS-IRIS/1_DONNEES_LIVRAISON_2020-01-00139/CONTOURS-IRIS_2-1_SHP_LAMB93_FXX-2019/CONTOURS-IRIS.shp\"\n",
    "\n",
    "sh_metro = shapefile.Reader(file_name_metro)\n",
    "shapes_metro= sh_metro.shapes()"
   ]
  },
  {
   "cell_type": "code",
   "execution_count": 10,
   "metadata": {},
   "outputs": [],
   "source": [
    "file_name_guad=\"/mnt/c/Users/guera/projects/E-CUBE/data/CONTOURS-IRIS_2-1__SHP__FRA_2020-01-01/CONTOURS-IRIS/1_DONNEES_LIVRAISON_2020-01-00139/CONTOURS-IRIS_2-1_SHP_RGAF09UTM20_GLP-2019/CONTOURS-IRIS.shp\"\n",
    "\n",
    "sh_guad = shapefile.Reader(file_name_guad)\n",
    "shapes_guad= sh_guad.shapes()"
   ]
  },
  {
   "cell_type": "code",
   "execution_count": 11,
   "metadata": {},
   "outputs": [],
   "source": [
    "file_name_mart=\"/mnt/c/Users/guera/projects/E-CUBE/data/CONTOURS-IRIS_2-1__SHP__FRA_2020-01-01/CONTOURS-IRIS/1_DONNEES_LIVRAISON_2020-01-00139/CONTOURS-IRIS_2-1_SHP_RGAF09UTM20_MTQ-2019/CONTOURS-IRIS.shp\"\n",
    "\n",
    "sh_mart = shapefile.Reader(file_name_mart)\n",
    "shapes_mart= sh_mart.shapes()"
   ]
  },
  {
   "cell_type": "code",
   "execution_count": 12,
   "metadata": {},
   "outputs": [],
   "source": [
    "file_name_may=\"/mnt/c/Users/guera/projects/E-CUBE/data/CONTOURS-IRIS_2-1__SHP__FRA_2020-01-01/CONTOURS-IRIS/1_DONNEES_LIVRAISON_2020-01-00139/CONTOURS-IRIS_2-1_SHP_RGM04UTM38S_MYT-2019/CONTOURS-IRIS.shp\"\n",
    "\n",
    "sh_may = shapefile.Reader(file_name_may)\n",
    "shapes_may= sh_may.shapes()"
   ]
  },
  {
   "cell_type": "code",
   "execution_count": 13,
   "metadata": {},
   "outputs": [],
   "source": [
    "file_name_reu=\"/mnt/c/Users/guera/projects/E-CUBE/data/CONTOURS-IRIS_2-1__SHP__FRA_2020-01-01/CONTOURS-IRIS/1_DONNEES_LIVRAISON_2020-01-00139/CONTOURS-IRIS_2-1_SHP_RGR92UTM40S_REU-2019/CONTOURS-IRIS.shp\"\n",
    "\n",
    "sh_reu = shapefile.Reader(file_name_reu)\n",
    "shapes_reu= sh_reu.shapes()"
   ]
  },
  {
   "cell_type": "code",
   "execution_count": 14,
   "metadata": {},
   "outputs": [],
   "source": [
    "file_name_guy=\"/mnt/c/Users/guera/projects/E-CUBE/data/CONTOURS-IRIS_2-1__SHP__FRA_2020-01-01/CONTOURS-IRIS/1_DONNEES_LIVRAISON_2020-01-00139/CONTOURS-IRIS_2-1_SHP_UTM22RGFG95_GUF-2019/CONTOURS-IRIS.shp\"\n",
    "\n",
    "sh_guy = shapefile.Reader(file_name_guy)\n",
    "shapes_guy= sh_guy.shapes()"
   ]
  },
  {
   "cell_type": "code",
   "execution_count": 15,
   "metadata": {},
   "outputs": [
    {
     "name": "stdout",
     "output_type": "stream",
     "text": [
      "PyTables is not installed. No support for HDF output.\n",
      "SQLalchemy is not installed. No support for SQL output.\n"
     ]
    }
   ],
   "source": [
    "from simpledbf import Dbf5\n",
    "iris_metro_dbf=Dbf5(folder+\"/data/CONTOURS-IRIS_2-1__SHP__FRA_2020-01-01/CONTOURS-IRIS/1_DONNEES_LIVRAISON_2020-01-00139/CONTOURS-IRIS_2-1_SHP_LAMB93_FXX-2019/CONTOURS-IRIS.dbf\")\n",
    "iris_metro_df=iris_metro_dbf.to_dataframe()"
   ]
  },
  {
   "cell_type": "code",
   "execution_count": 16,
   "metadata": {},
   "outputs": [],
   "source": [
    "iris_guad_dbf=Dbf5(folder+\"/data/CONTOURS-IRIS_2-1__SHP__FRA_2020-01-01/CONTOURS-IRIS/1_DONNEES_LIVRAISON_2020-01-00139/CONTOURS-IRIS_2-1_SHP_RGAF09UTM20_GLP-2019/CONTOURS-IRIS.dbf\")\n",
    "iris_guad_df=iris_guad_dbf.to_dataframe()"
   ]
  },
  {
   "cell_type": "code",
   "execution_count": 17,
   "metadata": {},
   "outputs": [],
   "source": [
    "iris_mart_dbf=Dbf5(folder+\"/data/CONTOURS-IRIS_2-1__SHP__FRA_2020-01-01/CONTOURS-IRIS/1_DONNEES_LIVRAISON_2020-01-00139/CONTOURS-IRIS_2-1_SHP_RGAF09UTM20_MTQ-2019/CONTOURS-IRIS.dbf\")\n",
    "iris_mart_df=iris_mart_dbf.to_dataframe()"
   ]
  },
  {
   "cell_type": "code",
   "execution_count": 18,
   "metadata": {},
   "outputs": [],
   "source": [
    "iris_may_dbf=Dbf5(folder+\"/data/CONTOURS-IRIS_2-1__SHP__FRA_2020-01-01/CONTOURS-IRIS/1_DONNEES_LIVRAISON_2020-01-00139/CONTOURS-IRIS_2-1_SHP_RGM04UTM38S_MYT-2019/CONTOURS-IRIS.dbf\")\n",
    "iris_may_df=iris_may_dbf.to_dataframe()"
   ]
  },
  {
   "cell_type": "code",
   "execution_count": 19,
   "metadata": {},
   "outputs": [],
   "source": [
    "iris_reu_dbf=Dbf5(folder+\"/data/CONTOURS-IRIS_2-1__SHP__FRA_2020-01-01/CONTOURS-IRIS/1_DONNEES_LIVRAISON_2020-01-00139/CONTOURS-IRIS_2-1_SHP_RGR92UTM40S_REU-2019/CONTOURS-IRIS.dbf\")\n",
    "iris_reu_df=iris_reu_dbf.to_dataframe()"
   ]
  },
  {
   "cell_type": "code",
   "execution_count": 20,
   "metadata": {},
   "outputs": [],
   "source": [
    "iris_guy_dbf=Dbf5(folder+\"/data/CONTOURS-IRIS_2-1__SHP__FRA_2020-01-01/CONTOURS-IRIS/1_DONNEES_LIVRAISON_2020-01-00139/CONTOURS-IRIS_2-1_SHP_UTM22RGFG95_GUF-2019/CONTOURS-IRIS.dbf\")\n",
    "iris_guy_df=iris_guy_dbf.to_dataframe()"
   ]
  },
  {
   "cell_type": "code",
   "execution_count": 21,
   "metadata": {},
   "outputs": [
    {
     "name": "stdout",
     "output_type": "stream",
     "text": [
      "(1936, 3)\n"
     ]
    },
    {
     "data": {
      "text/html": [
       "<div>\n",
       "<style scoped>\n",
       "    .dataframe tbody tr th:only-of-type {\n",
       "        vertical-align: middle;\n",
       "    }\n",
       "\n",
       "    .dataframe tbody tr th {\n",
       "        vertical-align: top;\n",
       "    }\n",
       "\n",
       "    .dataframe thead th {\n",
       "        text-align: right;\n",
       "    }\n",
       "</style>\n",
       "<table border=\"1\" class=\"dataframe\">\n",
       "  <thead>\n",
       "    <tr style=\"text-align: right;\">\n",
       "      <th></th>\n",
       "      <th>INSEE_COM</th>\n",
       "      <th>NOM_COM</th>\n",
       "      <th>NB_IRIS</th>\n",
       "    </tr>\n",
       "  </thead>\n",
       "  <tbody>\n",
       "    <tr>\n",
       "      <th>0</th>\n",
       "      <td>01004</td>\n",
       "      <td>Ambérieu-en-Bugey</td>\n",
       "      <td>4</td>\n",
       "    </tr>\n",
       "    <tr>\n",
       "      <th>1</th>\n",
       "      <td>01033</td>\n",
       "      <td>Valserhône</td>\n",
       "      <td>6</td>\n",
       "    </tr>\n",
       "    <tr>\n",
       "      <th>2</th>\n",
       "      <td>01034</td>\n",
       "      <td>Belley</td>\n",
       "      <td>3</td>\n",
       "    </tr>\n",
       "    <tr>\n",
       "      <th>3</th>\n",
       "      <td>01053</td>\n",
       "      <td>Bourg-en-Bresse</td>\n",
       "      <td>18</td>\n",
       "    </tr>\n",
       "    <tr>\n",
       "      <th>4</th>\n",
       "      <td>01143</td>\n",
       "      <td>Divonne-les-Bains</td>\n",
       "      <td>3</td>\n",
       "    </tr>\n",
       "    <tr>\n",
       "      <th>...</th>\n",
       "      <td>...</td>\n",
       "      <td>...</td>\n",
       "      <td>...</td>\n",
       "    </tr>\n",
       "    <tr>\n",
       "      <th>2</th>\n",
       "      <td>97305</td>\n",
       "      <td>Macouria</td>\n",
       "      <td>2</td>\n",
       "    </tr>\n",
       "    <tr>\n",
       "      <th>3</th>\n",
       "      <td>97306</td>\n",
       "      <td>Mana</td>\n",
       "      <td>2</td>\n",
       "    </tr>\n",
       "    <tr>\n",
       "      <th>4</th>\n",
       "      <td>97307</td>\n",
       "      <td>Matoury</td>\n",
       "      <td>8</td>\n",
       "    </tr>\n",
       "    <tr>\n",
       "      <th>5</th>\n",
       "      <td>97309</td>\n",
       "      <td>Remire-Montjoly</td>\n",
       "      <td>6</td>\n",
       "    </tr>\n",
       "    <tr>\n",
       "      <th>6</th>\n",
       "      <td>97311</td>\n",
       "      <td>Saint-Laurent-du-Maroni</td>\n",
       "      <td>7</td>\n",
       "    </tr>\n",
       "  </tbody>\n",
       "</table>\n",
       "<p>1936 rows × 3 columns</p>\n",
       "</div>"
      ],
      "text/plain": [
       "   INSEE_COM                  NOM_COM  NB_IRIS\n",
       "0      01004        Ambérieu-en-Bugey        4\n",
       "1      01033               Valserhône        6\n",
       "2      01034                   Belley        3\n",
       "3      01053          Bourg-en-Bresse       18\n",
       "4      01143        Divonne-les-Bains        3\n",
       "..       ...                      ...      ...\n",
       "2      97305                 Macouria        2\n",
       "3      97306                     Mana        2\n",
       "4      97307                  Matoury        8\n",
       "5      97309          Remire-Montjoly        6\n",
       "6      97311  Saint-Laurent-du-Maroni        7\n",
       "\n",
       "[1936 rows x 3 columns]"
      ]
     },
     "execution_count": 21,
     "metadata": {},
     "output_type": "execute_result"
    }
   ],
   "source": [
    "list_metro=pd.read_csv(folder+\"/data/CONTOURS-IRIS_2-1__SHP__FRA_2020-01-01/CONTOURS-IRIS/1_DONNEES_LIVRAISON_2020-01-00139/CONTOURS-IRIS_2-1_SHP_LAMB93_FXX-2019/LISTE.csv\", sep=';')\n",
    "list_guad=pd.read_csv(folder+\"/data/CONTOURS-IRIS_2-1__SHP__FRA_2020-01-01/CONTOURS-IRIS/1_DONNEES_LIVRAISON_2020-01-00139/CONTOURS-IRIS_2-1_SHP_RGAF09UTM20_GLP-2019/LISTE.csv\", sep=';')\n",
    "list_mart=pd.read_csv(folder+\"/data/CONTOURS-IRIS_2-1__SHP__FRA_2020-01-01/CONTOURS-IRIS/1_DONNEES_LIVRAISON_2020-01-00139/CONTOURS-IRIS_2-1_SHP_RGAF09UTM20_MTQ-2019/LISTE.csv\", sep=';')\n",
    "list_may=pd.read_csv(folder+\"/data/CONTOURS-IRIS_2-1__SHP__FRA_2020-01-01/CONTOURS-IRIS/1_DONNEES_LIVRAISON_2020-01-00139/CONTOURS-IRIS_2-1_SHP_RGM04UTM38S_MYT-2019/LISTE.csv\", sep=';')\n",
    "list_reu=pd.read_csv(folder+\"/data/CONTOURS-IRIS_2-1__SHP__FRA_2020-01-01/CONTOURS-IRIS/1_DONNEES_LIVRAISON_2020-01-00139/CONTOURS-IRIS_2-1_SHP_RGR92UTM40S_REU-2019/LISTE.csv\", sep=';')\n",
    "list_guy=pd.read_csv(folder+\"/data/CONTOURS-IRIS_2-1__SHP__FRA_2020-01-01/CONTOURS-IRIS/1_DONNEES_LIVRAISON_2020-01-00139/CONTOURS-IRIS_2-1_SHP_UTM22RGFG95_GUF-2019/LISTE.csv\", sep=';')\n",
    "\n",
    "list_cp=pd.concat([list_metro,list_guad,list_mart,list_may,list_reu,list_guy],axis=0)\n",
    "\n",
    "print(list_cp.shape)\n",
    "list_cp"
   ]
  },
  {
   "cell_type": "code",
   "execution_count": 23,
   "metadata": {},
   "outputs": [
    {
     "name": "stdout",
     "output_type": "stream",
     "text": [
      "72191\n",
      "<class 'str'>\n",
      "Empty DataFrame\n",
      "Columns: [INSEE_COM, NOM_COM, NB_IRIS]\n",
      "Index: []\n"
     ]
    }
   ],
   "source": [
    "cp=iris_metro_df.loc[0,\"INSEE_COM\"]\n",
    "print(cp)\n",
    "print(type(cp))\n",
    "nb=list_metro.loc[list_metro[\"INSEE_COM\"]== cp]\n",
    "print(nb)"
   ]
  },
  {
   "cell_type": "markdown",
   "metadata": {},
   "source": [
    "On crée maintenant des arbres STR par région"
   ]
  },
  {
   "cell_type": "code",
   "execution_count": 24,
   "metadata": {},
   "outputs": [],
   "source": [
    "STRlist=[STRtree([]) for i in range(101)]"
   ]
  },
  {
   "cell_type": "code",
   "execution_count": 25,
   "metadata": {},
   "outputs": [],
   "source": [
    "p=[([],{}) for i in range(101)]\n",
    "\n",
    "for i in range(len(shapes_metro)):\n",
    "    dep=iris_metro_df.loc[i,\"INSEE_COM\"][:2]\n",
    "    if dep=='2A':\n",
    "        dep='20'\n",
    "    elif dep=='2B':\n",
    "        dep='96'\n",
    "    poly=shapely.geometry.Polygon(shapes_metro[i].points)\n",
    "    p[int(dep)-1][1][id(poly)]=iris_metro_df.loc[i,\"CODE_IRIS\"]\n",
    "    p[int(dep)-1][0].append(poly)\n",
    "    \n",
    "    \n",
    "for i in range(len(shapes_guad)):\n",
    "    poly=shapely.geometry.Polygon(shapes_guad[i].points)\n",
    "    p[96][1][id(poly)]=iris_guad_df.loc[i,\"CODE_IRIS\"]\n",
    "    p[96][0].append(poly)\n",
    "    \n",
    "\n",
    "for i in range(len(shapes_mart)):\n",
    "    poly=shapely.geometry.Polygon(shapes_mart[i].points)\n",
    "    p[97][1][id(poly)]=iris_mart_df.loc[i,\"CODE_IRIS\"]\n",
    "    p[97][0].append(poly)\n",
    "    \n",
    "\n",
    "for i in range(len(shapes_guy)):\n",
    "    poly=shapely.geometry.Polygon(shapes_guy[i].points)\n",
    "    p[98][1][id(poly)]=iris_guy_df.loc[i,\"CODE_IRIS\"]\n",
    "    p[98][0].append(poly)\n",
    "    \n",
    "    \n",
    "for i in range(len(shapes_reu)):\n",
    "    poly=shapely.geometry.Polygon(shapes_reu[i].points)\n",
    "    p[99][1][id(poly)]=iris_reu_df.loc[i,\"CODE_IRIS\"]\n",
    "    p[99][0].append(poly)\n",
    "    \n",
    "    \n",
    "for i in range(len(shapes_may)):\n",
    "    poly=shapely.geometry.Polygon(shapes_may[i].points)\n",
    "    p[100][1][id(poly)]=iris_may_df.loc[i,\"CODE_IRIS\"]\n",
    "    p[100][0].append(poly)\n",
    "    \n",
    "    \n",
    "for i in range(101):\n",
    "    STRlist[i]=STRtree(p[i][0])"
   ]
  },
  {
   "cell_type": "code",
   "execution_count": 26,
   "metadata": {},
   "outputs": [],
   "source": [
    "#Lambert 93 -> France Metropolitaine\n",
    "crs_L93 = CRS.from_epsg(2154)\n",
    "L93_Proj = Proj(crs_L93)\n",
    "\n",
    "#WGS -> coordonnées longitude, latitude\n",
    "crs_WGS = CRS.from_epsg(4326)\n",
    "WGS_Proj = Proj(crs_WGS)\n",
    "\n",
    "#RGAF09UTM20 -> Antilles Françaises (Guadeloupe, Martinique)\n",
    "crs_RGAF09UTM20 = CRS.from_epsg(5490)\n",
    "RGAF09UTM20_Proj = Proj(crs_RGAF09UTM20)\n",
    "\n",
    "#RGFG95UTM22 -> Guyane française\n",
    "crs_RGFG95UTM22 = CRS.from_epsg(2972)\n",
    "RGFG95UTM22_Proj = Proj(crs_RGFG95UTM22)\n",
    "\n",
    "#RGR92UTM40S -> Réunion\n",
    "crs_RGR92UTM40S = CRS.from_epsg(2975)\n",
    "RGR92UTM40S_Proj = Proj(crs_RGR92UTM40S)\n",
    "\n",
    "#RGM04UTM38S -> Mayotte\n",
    "crs_RGM04UTM38S = CRS.from_epsg(4471)\n",
    "RGM04UTM38S_Proj = Proj(crs_RGM04UTM38S)\n",
    "\n",
    "def shape_iris(lat,lon,dep):\n",
    "    if dep<96:\n",
    "        x2,y2 = transform(WGS_Proj,L93_Proj,lat,lon)\n",
    "        query_geom=shapely.geometry.Point(x2,y2)\n",
    "        ir=STRlist[dep].query(query_geom)\n",
    "    elif dep==96:\n",
    "        x2,y2 = transform(WGS_Proj,RGAF09UTM20_Proj,lat,lon)\n",
    "        query_geom=shapely.geometry.Point(x2,y2)\n",
    "        ir=STRlist[dep].query(query_geom)\n",
    "    elif dep==97:\n",
    "        x2,y2 = transform(WGS_Proj,RGAF09UTM20_Proj,lat,lon)\n",
    "        query_geom=shapely.geometry.Point(x2,y2)\n",
    "        ir=STRlist[dep].query(query_geom)\n",
    "    elif dep==98:\n",
    "        x2,y2 = transform(WGS_Proj,RGFG95UTM22_Proj,lat,lon)\n",
    "        query_geom=shapely.geometry.Point(x2,y2)\n",
    "        ir=STRlist[dep].query(query_geom)\n",
    "    elif dep==99:\n",
    "        x2,y2 = transform(WGS_Proj,RGR92UTM40S_Proj,lat,lon)\n",
    "        query_geom=shapely.geometry.Point(x2,y2)\n",
    "        ir=STRlist[dep].query(query_geom)\n",
    "    elif dep==100:\n",
    "        x2,y2 = transform(WGS_Proj,RGM04UTM38S_Proj,lat,lon)\n",
    "        query_geom=shapely.geometry.Point(x2,y2)\n",
    "        ir=STRlist[dep].query(query_geom)\n",
    "    return ir"
   ]
  },
  {
   "cell_type": "code",
   "execution_count": 27,
   "metadata": {},
   "outputs": [
    {
     "data": {
      "image/svg+xml": [
       "<svg xmlns=\"http://www.w3.org/2000/svg\" xmlns:xlink=\"http://www.w3.org/1999/xlink\" width=\"300\" height=\"300\" viewBox=\"491073.488 6738841.188 10551.92399999994 9616.223999999464\" preserveAspectRatio=\"xMinYMin meet\"><g transform=\"matrix(1,0,0,-1,0,13487298.6)\"><path fill-rule=\"evenodd\" fill=\"#66cc99\" stroke=\"#555555\" stroke-width=\"70.3461599999996\" opacity=\"0.6\" d=\"M 497887.4,6747662.4 L 497907.2,6747658.1 L 497924.3,6747652.4 L 497938.0,6747645.1 L 497955.3,6747634.0 L 497974.9,6747618.6 L 498068.6,6747532.5 L 498083.5,6747517.4 L 498128.0,6747467.1 L 498177.1,6747425.2 L 498514.3,6747257.1 L 498674.3,6747208.0 L 499002.1,6747099.7 L 499288.7,6747011.7 L 499629.8,6746870.1 L 499731.0,6746836.1 L 499802.3,6746814.5 L 499929.0,6746804.1 L 500076.8,6746771.0 L 500115.9,6746753.4 L 500174.1,6746725.7 L 500262.6,6746668.8 L 500360.0,6746572.2 L 500624.6,6746357.2 L 500715.0,6746257.5 L 500785.7,6746121.9 L 500800.7,6745992.0 L 500805.3,6745954.2 L 500809.7,6745918.3 L 500815.7,6745869.6 L 500819.5,6745844.1 L 500825.0,6745817.5 L 500831.7,6745793.2 L 500839.5,6745770.8 L 500849.0,6745748.8 L 500874.7,6745694.1 L 500908.7,6745623.0 L 500941.0,6745555.3 L 500979.5,6745474.2 L 501056.4,6745311.8 L 501098.8,6745221.8 L 501223.5,6744936.3 L 501234.6,6744913.1 L 501216.0,6744851.6 L 501156.8,6744658.9 L 501091.9,6744452.0 L 501058.2,6744344.3 L 501000.7,6744159.9 L 500924.1,6743914.1 L 500872.4,6743743.7 L 500835.1,6743621.8 L 500802.6,6743515.6 L 500799.5,6743505.4 L 500795.5,6743491.7 L 500770.9,6743409.5 L 500710.6,6743210.9 L 500680.4,6743110.9 L 500650.7,6743010.6 L 500612.6,6742885.1 L 500567.3,6742736.0 L 500556.5,6742700.6 L 500535.2,6742631.5 L 500509.1,6742546.7 L 500473.8,6742430.8 L 500441.6,6742324.5 L 500395.5,6742172.8 L 500363.5,6742069.0 L 500308.4,6742027.6 L 500241.4,6741983.2 L 500143.5,6741920.6 L 499987.1,6741826.2 L 499703.3,6741651.6 L 499673.9,6741632.0 L 499617.4,6741600.7 L 499538.0,6741559.1 L 499477.6,6741590.0 L 499458.6,6741650.9 L 499410.1,6741808.3 L 499389.0,6741879.1 L 499366.8,6741958.5 L 499162.8,6742186.8 L 498851.0,6742228.4 L 498621.9,6742214.7 L 498426.7,6742106.2 L 498412.4,6742099.1 L 498376.3,6742083.7 L 498130.8,6741971.7 L 497951.8,6741866.4 L 497752.0,6741639.6 L 497611.9,6741476.1 L 497373.6,6741264.4 L 497138.3,6741064.4 L 496973.6,6740914.0 L 496868.1,6740727.2 L 496626.2,6740479.4 L 496475.1,6740335.7 L 496379.1,6740283.8 L 496354.9,6740204.2 L 496333.4,6740122.0 L 496221.2,6739651.5 L 496195.9,6739638.2 L 495886.8,6739460.7 L 495799.2,6739407.1 L 495757.8,6739393.5 L 495691.0,6739376.4 L 495602.6,6739363.1 L 495512.0,6739352.3 L 495460.4,6739344.9 L 495427.0,6739335.8 L 495389.2,6739321.2 L 495330.4,6739295.9 L 495257.4,6739265.8 L 495174.6,6739232.0 L 495102.7,6739339.7 L 495057.6,6739452.7 L 494957.9,6739595.0 L 494922.5,6739644.8 L 494843.3,6739708.1 L 494823.8,6739714.2 L 494794.5,6739725.8 L 494775.7,6739734.1 L 494753.8,6739745.1 L 494744.8,6739750.7 L 494735.5,6739758.1 L 494725.5,6739767.7 L 494709.8,6739783.4 L 494694.6,6739798.9 L 494675.1,6739819.5 L 494669.4,6739826.1 L 494621.8,6739878.8 L 494350.1,6740158.4 L 494330.4,6740183.6 L 494181.2,6740274.8 L 494056.7,6740325.8 L 493966.0,6740231.6 L 493906.1,6740237.1 L 493826.3,6740257.7 L 493652.9,6740434.0 L 493643.0,6740449.1 L 493645.7,6740571.9 L 493580.7,6740764.4 L 493555.8,6740774.6 L 493476.9,6740787.4 L 493399.0,6740790.1 L 493316.1,6740786.6 L 492971.2,6740774.4 L 492706.7,6740769.6 L 492696.8,6740870.4 L 492485.2,6741168.1 L 492471.5,6741162.3 L 492410.9,6741137.9 L 492398.2,6741158.0 L 492384.8,6741180.7 L 492379.2,6741191.7 L 492376.1,6741199.1 L 492325.5,6741337.9 L 492322.4,6741346.5 L 492320.5,6741354.2 L 492311.0,6741419.3 L 492309.0,6741433.2 L 492308.8,6741444.3 L 492309.2,6741454.1 L 492311.0,6741477.7 L 492312.6,6741496.6 L 492405.7,6741558.6 L 492458.0,6741631.3 L 492452.0,6741715.4 L 492450.6,6741730.8 L 492445.8,6741765.0 L 492412.7,6741945.9 L 492410.8,6741952.8 L 492405.5,6741960.5 L 492252.4,6742121.3 L 492189.7,6742162.3 L 492122.6,6742179.0 L 492079.0,6742186.3 L 492022.0,6742189.2 L 491928.8,6742192.2 L 491840.2,6742183.2 L 491694.3,6742142.5 L 491675.4,6742136.8 L 491659.2,6742229.3 L 491665.9,6742434.1 L 491673.4,6742536.4 L 491647.8,6742659.1 L 491642.9,6742679.1 L 491489.0,6742800.3 L 491464.3,6742825.5 L 491464.4,6742845.5 L 491616.6,6743119.0 L 491626.9,6743153.9 L 491675.6,6743603.2 L 491660.5,6744197.9 L 491650.8,6744238.0 L 491582.3,6744403.4 L 491583.2,6744704.4 L 491592.5,6744717.1 L 491603.4,6744725.3 L 491671.4,6744755.5 L 491905.5,6744836.3 L 492156.2,6745021.3 L 492440.8,6745081.3 L 492525.6,6745124.8 L 492513.5,6745240.1 L 492485.1,6745425.2 L 492417.0,6745650.6 L 492304.4,6745926.4 L 492613.2,6746041.0 L 492778.1,6746082.9 L 493020.3,6746141.3 L 493087.6,6746154.4 L 493158.4,6746165.9 L 493285.8,6746175.4 L 493575.1,6746260.6 L 493826.5,6746353.0 L 493958.5,6746412.7 L 494063.5,6746488.7 L 494304.5,6746694.9 L 494318.4,6746707.4 L 494323.4,6746711.9 L 494328.3,6746717.0 L 494499.2,6746903.3 L 494766.6,6747125.2 L 494934.6,6747174.6 L 495077.2,6747256.5 L 495100.6,6747275.2 L 495144.6,6747315.8 L 495222.7,6747442.5 L 495333.3,6747518.2 L 495480.7,6747611.9 L 495679.7,6747738.5 L 495686.3,6747742.7 L 495693.9,6747746.5 L 495699.8,6747748.5 L 495771.8,6747768.2 L 495975.9,6747818.6 L 496081.5,6747824.4 L 496240.9,6747878.7 L 496397.8,6747934.7 L 496561.2,6747966.8 L 496752.7,6747988.5 L 496976.2,6748047.9 L 497134.4,6748066.6 L 497185.0,6748065.2 L 497356.7,6748000.6 L 497555.1,6747889.3 L 497859.2,6747666.3 L 497887.4,6747662.4 z\" /></g></svg>"
      ],
      "text/plain": [
       "<shapely.geometry.polygon.Polygon at 0x7f2b29394f60>"
      ]
     },
     "execution_count": 27,
     "metadata": {},
     "output_type": "execute_result"
    }
   ],
   "source": [
    "shape_iris(47.78,0.28,71)[0]"
   ]
  },
  {
   "cell_type": "code",
   "execution_count": 28,
   "metadata": {},
   "outputs": [],
   "source": [
    "def iris(lat,lon,dep):\n",
    "    ir=shape_iris(lat,lon,dep)\n",
    "    if ir==[]:\n",
    "        return None\n",
    "    idir=p[dep][1][id(ir[0])]\n",
    "    return idir\n"
   ]
  },
  {
   "cell_type": "code",
   "execution_count": 29,
   "metadata": {},
   "outputs": [
    {
     "data": {
      "text/plain": [
       "'721910000'"
      ]
     },
     "execution_count": 29,
     "metadata": {},
     "output_type": "execute_result"
    }
   ],
   "source": [
    "iris_metro_df.loc[0,\"CODE_IRIS\"]"
   ]
  },
  {
   "cell_type": "code",
   "execution_count": 30,
   "metadata": {},
   "outputs": [
    {
     "data": {
      "text/plain": [
       "'721910000'"
      ]
     },
     "execution_count": 30,
     "metadata": {},
     "output_type": "execute_result"
    }
   ],
   "source": [
    "iris(47.78,0.28,71)"
   ]
  },
  {
   "cell_type": "code",
   "execution_count": 45,
   "metadata": {},
   "outputs": [],
   "source": [
    "def dep(code):\n",
    "    if len(code)==5:\n",
    "        nb_dep=code[:2]\n",
    "        if nb_dep=='2A':\n",
    "            nb_dep='20'\n",
    "        elif nb_dep=='2B':\n",
    "            nb_dep='96'\n",
    "        elif nb_dep=='97':\n",
    "            c=code[2]\n",
    "            if c=='1':\n",
    "                nb_dep='97'\n",
    "            elif c=='2':\n",
    "                nb_dep='98'\n",
    "            elif c=='3':\n",
    "                nb_dep='99'\n",
    "            elif c=='4':\n",
    "                nb_dep='100'\n",
    "            elif c=='5':\n",
    "                nb_dep='101'\n",
    "    elif len(code)==4:\n",
    "        nb_dep=code[:1]\n",
    "    return (int(nb_dep)-1)\n",
    "\n",
    "dep('97400')\n",
    "\n",
    "Str=np.vectorize(str)"
   ]
  },
  {
   "cell_type": "code",
   "execution_count": 42,
   "metadata": {},
   "outputs": [],
   "source": [
    "siren_without_auto=siren_without_auto.head(100)"
   ]
  },
  {
   "cell_type": "code",
   "execution_count": 46,
   "metadata": {
    "scrolled": true
   },
   "outputs": [
    {
     "ename": "TypeError",
     "evalue": "'str' object is not callable",
     "output_type": "error",
     "traceback": [
      "\u001b[0;31m---------------------------------------------------------------------------\u001b[0m",
      "\u001b[0;31mTypeError\u001b[0m                                 Traceback (most recent call last)",
      "\u001b[0;32m<ipython-input-46-acef7af0d2aa>\u001b[0m in \u001b[0;36m<module>\u001b[0;34m\u001b[0m\n\u001b[1;32m      6\u001b[0m     \u001b[0;32mreturn\u001b[0m\u001b[0;34m(\u001b[0m\u001b[0mt1\u001b[0m\u001b[0;34m-\u001b[0m\u001b[0mt0\u001b[0m\u001b[0;34m)\u001b[0m\u001b[0;34m\u001b[0m\u001b[0;34m\u001b[0m\u001b[0m\n\u001b[1;32m      7\u001b[0m \u001b[0;34m\u001b[0m\u001b[0m\n\u001b[0;32m----> 8\u001b[0;31m \u001b[0mprint\u001b[0m\u001b[0;34m(\u001b[0m\u001b[0mtime_vect\u001b[0m\u001b[0;34m(\u001b[0m\u001b[0;34m)\u001b[0m\u001b[0;34m)\u001b[0m\u001b[0;34m\u001b[0m\u001b[0;34m\u001b[0m\u001b[0m\n\u001b[0m\u001b[1;32m      9\u001b[0m \u001b[0msiren_without_auto\u001b[0m\u001b[0;34m\u001b[0m\u001b[0;34m\u001b[0m\u001b[0m\n",
      "\u001b[0;32m<ipython-input-46-acef7af0d2aa>\u001b[0m in \u001b[0;36mtime_vect\u001b[0;34m()\u001b[0m\n\u001b[1;32m      2\u001b[0m     \u001b[0mt0\u001b[0m\u001b[0;34m=\u001b[0m\u001b[0mtime\u001b[0m\u001b[0;34m.\u001b[0m\u001b[0mtime\u001b[0m\u001b[0;34m(\u001b[0m\u001b[0;34m)\u001b[0m\u001b[0;34m\u001b[0m\u001b[0;34m\u001b[0m\u001b[0m\n\u001b[1;32m      3\u001b[0m \u001b[0;34m\u001b[0m\u001b[0m\n\u001b[0;32m----> 4\u001b[0;31m     \u001b[0msiren_without_auto\u001b[0m\u001b[0;34m[\u001b[0m\u001b[0;34m\"IRIS\"\u001b[0m\u001b[0;34m]\u001b[0m\u001b[0;34m=\u001b[0m\u001b[0mnp\u001b[0m\u001b[0;34m.\u001b[0m\u001b[0mvectorize\u001b[0m\u001b[0;34m(\u001b[0m\u001b[0miris\u001b[0m\u001b[0;34m)\u001b[0m\u001b[0;34m(\u001b[0m\u001b[0msiren_without_auto\u001b[0m\u001b[0;34m[\u001b[0m\u001b[0;34m\"latitude\"\u001b[0m\u001b[0;34m]\u001b[0m\u001b[0;34m,\u001b[0m\u001b[0msiren_without_auto\u001b[0m\u001b[0;34m[\u001b[0m\u001b[0;34m\"longitude\"\u001b[0m\u001b[0;34m]\u001b[0m\u001b[0;34m,\u001b[0m\u001b[0mnp\u001b[0m\u001b[0;34m.\u001b[0m\u001b[0mvectorize\u001b[0m\u001b[0;34m(\u001b[0m\u001b[0mdep\u001b[0m\u001b[0;34m)\u001b[0m\u001b[0;34m(\u001b[0m\u001b[0mStr\u001b[0m\u001b[0;34m(\u001b[0m\u001b[0msiren_without_auto\u001b[0m\u001b[0;34m[\u001b[0m\u001b[0;34m\"codeCommuneEtablissement\"\u001b[0m\u001b[0;34m]\u001b[0m\u001b[0;34m)\u001b[0m\u001b[0;34m)\u001b[0m\u001b[0;34m)\u001b[0m\u001b[0;34m\u001b[0m\u001b[0;34m\u001b[0m\u001b[0m\n\u001b[0m\u001b[1;32m      5\u001b[0m     \u001b[0mt1\u001b[0m\u001b[0;34m=\u001b[0m\u001b[0mtime\u001b[0m\u001b[0;34m.\u001b[0m\u001b[0mtime\u001b[0m\u001b[0;34m(\u001b[0m\u001b[0;34m)\u001b[0m\u001b[0;34m\u001b[0m\u001b[0;34m\u001b[0m\u001b[0m\n\u001b[1;32m      6\u001b[0m     \u001b[0;32mreturn\u001b[0m\u001b[0;34m(\u001b[0m\u001b[0mt1\u001b[0m\u001b[0;34m-\u001b[0m\u001b[0mt0\u001b[0m\u001b[0;34m)\u001b[0m\u001b[0;34m\u001b[0m\u001b[0;34m\u001b[0m\u001b[0m\n",
      "\u001b[0;32m~/.local/lib/python3.6/site-packages/numpy/lib/function_base.py\u001b[0m in \u001b[0;36m__call__\u001b[0;34m(self, *args, **kwargs)\u001b[0m\n\u001b[1;32m   2089\u001b[0m             \u001b[0mvargs\u001b[0m\u001b[0;34m.\u001b[0m\u001b[0mextend\u001b[0m\u001b[0;34m(\u001b[0m\u001b[0;34m[\u001b[0m\u001b[0mkwargs\u001b[0m\u001b[0;34m[\u001b[0m\u001b[0m_n\u001b[0m\u001b[0;34m]\u001b[0m \u001b[0;32mfor\u001b[0m \u001b[0m_n\u001b[0m \u001b[0;32min\u001b[0m \u001b[0mnames\u001b[0m\u001b[0;34m]\u001b[0m\u001b[0;34m)\u001b[0m\u001b[0;34m\u001b[0m\u001b[0;34m\u001b[0m\u001b[0m\n\u001b[1;32m   2090\u001b[0m \u001b[0;34m\u001b[0m\u001b[0m\n\u001b[0;32m-> 2091\u001b[0;31m         \u001b[0;32mreturn\u001b[0m \u001b[0mself\u001b[0m\u001b[0;34m.\u001b[0m\u001b[0m_vectorize_call\u001b[0m\u001b[0;34m(\u001b[0m\u001b[0mfunc\u001b[0m\u001b[0;34m=\u001b[0m\u001b[0mfunc\u001b[0m\u001b[0;34m,\u001b[0m \u001b[0margs\u001b[0m\u001b[0;34m=\u001b[0m\u001b[0mvargs\u001b[0m\u001b[0;34m)\u001b[0m\u001b[0;34m\u001b[0m\u001b[0;34m\u001b[0m\u001b[0m\n\u001b[0m\u001b[1;32m   2092\u001b[0m \u001b[0;34m\u001b[0m\u001b[0m\n\u001b[1;32m   2093\u001b[0m     \u001b[0;32mdef\u001b[0m \u001b[0m_get_ufunc_and_otypes\u001b[0m\u001b[0;34m(\u001b[0m\u001b[0mself\u001b[0m\u001b[0;34m,\u001b[0m \u001b[0mfunc\u001b[0m\u001b[0;34m,\u001b[0m \u001b[0margs\u001b[0m\u001b[0;34m)\u001b[0m\u001b[0;34m:\u001b[0m\u001b[0;34m\u001b[0m\u001b[0;34m\u001b[0m\u001b[0m\n",
      "\u001b[0;32m~/.local/lib/python3.6/site-packages/numpy/lib/function_base.py\u001b[0m in \u001b[0;36m_vectorize_call\u001b[0;34m(self, func, args)\u001b[0m\n\u001b[1;32m   2159\u001b[0m             \u001b[0mres\u001b[0m \u001b[0;34m=\u001b[0m \u001b[0mfunc\u001b[0m\u001b[0;34m(\u001b[0m\u001b[0;34m)\u001b[0m\u001b[0;34m\u001b[0m\u001b[0;34m\u001b[0m\u001b[0m\n\u001b[1;32m   2160\u001b[0m         \u001b[0;32melse\u001b[0m\u001b[0;34m:\u001b[0m\u001b[0;34m\u001b[0m\u001b[0;34m\u001b[0m\u001b[0m\n\u001b[0;32m-> 2161\u001b[0;31m             \u001b[0mufunc\u001b[0m\u001b[0;34m,\u001b[0m \u001b[0motypes\u001b[0m \u001b[0;34m=\u001b[0m \u001b[0mself\u001b[0m\u001b[0;34m.\u001b[0m\u001b[0m_get_ufunc_and_otypes\u001b[0m\u001b[0;34m(\u001b[0m\u001b[0mfunc\u001b[0m\u001b[0;34m=\u001b[0m\u001b[0mfunc\u001b[0m\u001b[0;34m,\u001b[0m \u001b[0margs\u001b[0m\u001b[0;34m=\u001b[0m\u001b[0margs\u001b[0m\u001b[0;34m)\u001b[0m\u001b[0;34m\u001b[0m\u001b[0;34m\u001b[0m\u001b[0m\n\u001b[0m\u001b[1;32m   2162\u001b[0m \u001b[0;34m\u001b[0m\u001b[0m\n\u001b[1;32m   2163\u001b[0m             \u001b[0;31m# Convert args to object arrays first\u001b[0m\u001b[0;34m\u001b[0m\u001b[0;34m\u001b[0m\u001b[0;34m\u001b[0m\u001b[0m\n",
      "\u001b[0;32m~/.local/lib/python3.6/site-packages/numpy/lib/function_base.py\u001b[0m in \u001b[0;36m_get_ufunc_and_otypes\u001b[0;34m(self, func, args)\u001b[0m\n\u001b[1;32m   2119\u001b[0m \u001b[0;34m\u001b[0m\u001b[0m\n\u001b[1;32m   2120\u001b[0m             \u001b[0minputs\u001b[0m \u001b[0;34m=\u001b[0m \u001b[0;34m[\u001b[0m\u001b[0marg\u001b[0m\u001b[0;34m.\u001b[0m\u001b[0mflat\u001b[0m\u001b[0;34m[\u001b[0m\u001b[0;36m0\u001b[0m\u001b[0;34m]\u001b[0m \u001b[0;32mfor\u001b[0m \u001b[0marg\u001b[0m \u001b[0;32min\u001b[0m \u001b[0margs\u001b[0m\u001b[0;34m]\u001b[0m\u001b[0;34m\u001b[0m\u001b[0;34m\u001b[0m\u001b[0m\n\u001b[0;32m-> 2121\u001b[0;31m             \u001b[0moutputs\u001b[0m \u001b[0;34m=\u001b[0m \u001b[0mfunc\u001b[0m\u001b[0;34m(\u001b[0m\u001b[0;34m*\u001b[0m\u001b[0minputs\u001b[0m\u001b[0;34m)\u001b[0m\u001b[0;34m\u001b[0m\u001b[0;34m\u001b[0m\u001b[0m\n\u001b[0m\u001b[1;32m   2122\u001b[0m \u001b[0;34m\u001b[0m\u001b[0m\n\u001b[1;32m   2123\u001b[0m             \u001b[0;31m# Performance note: profiling indicates that -- for simple\u001b[0m\u001b[0;34m\u001b[0m\u001b[0;34m\u001b[0m\u001b[0;34m\u001b[0m\u001b[0m\n",
      "\u001b[0;31mTypeError\u001b[0m: 'str' object is not callable"
     ]
    }
   ],
   "source": [
    "def time_vect():\n",
    "    t0=time.time()\n",
    "\n",
    "    siren_without_auto[\"IRIS\"]=np.vectorize(iris)(siren_without_auto[\"latitude\"],siren_without_auto[\"longitude\"],np.vectorize(dep)(Str(siren_without_auto[\"codeCommuneEtablissement\"])))\n",
    "    t1=time.time()\n",
    "    return(t1-t0)\n",
    "\n",
    "print(time_vect())    \n",
    "siren_without_auto"
   ]
  },
  {
   "cell_type": "code",
   "execution_count": 38,
   "metadata": {},
   "outputs": [],
   "source": [
    "siren_without_auto.to_csv(folder+\"/data/SIREN/StockEtablissementActif_utf8_geo_iris.csv\")"
   ]
  },
  {
   "cell_type": "code",
   "execution_count": 47,
   "metadata": {},
   "outputs": [
    {
     "ename": "TypeError",
     "evalue": "'str' object is not callable",
     "output_type": "error",
     "traceback": [
      "\u001b[0;31m---------------------------------------------------------------------------\u001b[0m",
      "\u001b[0;31mTypeError\u001b[0m                                 Traceback (most recent call last)",
      "\u001b[0;32m<ipython-input-47-ec91ee91785d>\u001b[0m in \u001b[0;36m<module>\u001b[0;34m\u001b[0m\n\u001b[1;32m      7\u001b[0m     \u001b[0;32mreturn\u001b[0m\u001b[0;34m(\u001b[0m\u001b[0mt1\u001b[0m\u001b[0;34m-\u001b[0m\u001b[0mt0\u001b[0m\u001b[0;34m)\u001b[0m\u001b[0;34m\u001b[0m\u001b[0;34m\u001b[0m\u001b[0m\n\u001b[1;32m      8\u001b[0m \u001b[0;34m\u001b[0m\u001b[0m\n\u001b[0;32m----> 9\u001b[0;31m \u001b[0mprint\u001b[0m\u001b[0;34m(\u001b[0m\u001b[0mtime_map\u001b[0m\u001b[0;34m(\u001b[0m\u001b[0;34m)\u001b[0m\u001b[0;34m)\u001b[0m\u001b[0;34m\u001b[0m\u001b[0;34m\u001b[0m\u001b[0m\n\u001b[0m\u001b[1;32m     10\u001b[0m \u001b[0msiren_without_auto\u001b[0m\u001b[0;34m\u001b[0m\u001b[0;34m\u001b[0m\u001b[0m\n",
      "\u001b[0;32m<ipython-input-47-ec91ee91785d>\u001b[0m in \u001b[0;36mtime_map\u001b[0;34m()\u001b[0m\n\u001b[1;32m      3\u001b[0m     \u001b[0mDEP\u001b[0m\u001b[0;34m=\u001b[0m\u001b[0mmap\u001b[0m\u001b[0;34m(\u001b[0m\u001b[0mdep\u001b[0m\u001b[0;34m,\u001b[0m\u001b[0mmap\u001b[0m\u001b[0;34m(\u001b[0m\u001b[0mstr\u001b[0m\u001b[0;34m,\u001b[0m\u001b[0msiren_without_auto\u001b[0m\u001b[0;34m[\u001b[0m\u001b[0;34m\"codeCommuneEtablissement\"\u001b[0m\u001b[0;34m]\u001b[0m\u001b[0;34m)\u001b[0m\u001b[0;34m)\u001b[0m\u001b[0;34m\u001b[0m\u001b[0;34m\u001b[0m\u001b[0m\n\u001b[1;32m      4\u001b[0m     \u001b[0mIRIS\u001b[0m\u001b[0;34m=\u001b[0m\u001b[0mmap\u001b[0m\u001b[0;34m(\u001b[0m\u001b[0miris\u001b[0m\u001b[0;34m,\u001b[0m\u001b[0msiren_without_auto\u001b[0m\u001b[0;34m[\u001b[0m\u001b[0;34m\"latitude\"\u001b[0m\u001b[0;34m]\u001b[0m\u001b[0;34m,\u001b[0m\u001b[0msiren_without_auto\u001b[0m\u001b[0;34m[\u001b[0m\u001b[0;34m\"longitude\"\u001b[0m\u001b[0;34m]\u001b[0m\u001b[0;34m,\u001b[0m\u001b[0mDEP\u001b[0m\u001b[0;34m)\u001b[0m\u001b[0;34m\u001b[0m\u001b[0;34m\u001b[0m\u001b[0m\n\u001b[0;32m----> 5\u001b[0;31m     \u001b[0msiren_without_auto\u001b[0m\u001b[0;34m[\u001b[0m\u001b[0;34m\"IRIS\"\u001b[0m\u001b[0;34m]\u001b[0m\u001b[0;34m=\u001b[0m\u001b[0;34m(\u001b[0m\u001b[0mlist\u001b[0m\u001b[0;34m(\u001b[0m\u001b[0mIRIS\u001b[0m\u001b[0;34m)\u001b[0m\u001b[0;34m)\u001b[0m\u001b[0;34m\u001b[0m\u001b[0;34m\u001b[0m\u001b[0m\n\u001b[0m\u001b[1;32m      6\u001b[0m     \u001b[0mt1\u001b[0m\u001b[0;34m=\u001b[0m\u001b[0mtime\u001b[0m\u001b[0;34m.\u001b[0m\u001b[0mtime\u001b[0m\u001b[0;34m(\u001b[0m\u001b[0;34m)\u001b[0m\u001b[0;34m\u001b[0m\u001b[0;34m\u001b[0m\u001b[0m\n\u001b[1;32m      7\u001b[0m     \u001b[0;32mreturn\u001b[0m\u001b[0;34m(\u001b[0m\u001b[0mt1\u001b[0m\u001b[0;34m-\u001b[0m\u001b[0mt0\u001b[0m\u001b[0;34m)\u001b[0m\u001b[0;34m\u001b[0m\u001b[0;34m\u001b[0m\u001b[0m\n",
      "\u001b[0;31mTypeError\u001b[0m: 'str' object is not callable"
     ]
    }
   ],
   "source": [
    "def time_map():\n",
    "    t0=time.time()\n",
    "    DEP=map(dep,map(str,siren_without_auto[\"codeCommuneEtablissement\"]))\n",
    "    IRIS=map(iris,siren_without_auto[\"latitude\"],siren_without_auto[\"longitude\"],DEP)\n",
    "    siren_without_auto[\"IRIS\"]=(list(IRIS))\n",
    "    t1=time.time()\n",
    "    return(t1-t0)\n",
    "\n",
    "print(time_map())\n",
    "siren_without_auto"
   ]
  },
  {
   "cell_type": "code",
   "execution_count": 64,
   "metadata": {},
   "outputs": [
    {
     "data": {
      "text/plain": [
       "[1.7252912521362305,\n",
       " -0.09824180603027344,\n",
       " 0.85235595703125,\n",
       " 0.3761711120605469,\n",
       " -0.373779296875,\n",
       " 0.6094419956207275,\n",
       " 0.41860389709472656,\n",
       " 0.46794772148132324,\n",
       " 0.4111182689666748,\n",
       " -0.21510696411132812]"
      ]
     },
     "execution_count": 64,
     "metadata": {},
     "output_type": "execute_result"
    }
   ],
   "source": [
    "[time_vect()-time_map() for i in range(10)]"
   ]
  },
  {
   "cell_type": "markdown",
   "metadata": {},
   "source": [
    "On essaie une autre méthode en réalisant un premier tri non plus par départements mais par communes"
   ]
  },
  {
   "cell_type": "code",
   "execution_count": 32,
   "metadata": {},
   "outputs": [
    {
     "data": {
      "text/html": [
       "<div>\n",
       "<style scoped>\n",
       "    .dataframe tbody tr th:only-of-type {\n",
       "        vertical-align: middle;\n",
       "    }\n",
       "\n",
       "    .dataframe tbody tr th {\n",
       "        vertical-align: top;\n",
       "    }\n",
       "\n",
       "    .dataframe thead th {\n",
       "        text-align: right;\n",
       "    }\n",
       "</style>\n",
       "<table border=\"1\" class=\"dataframe\">\n",
       "  <thead>\n",
       "    <tr style=\"text-align: right;\">\n",
       "      <th></th>\n",
       "      <th>code commune</th>\n",
       "      <th>contour iris</th>\n",
       "      <th>iris</th>\n",
       "    </tr>\n",
       "  </thead>\n",
       "  <tbody>\n",
       "    <tr>\n",
       "      <th>0</th>\n",
       "      <td>72191</td>\n",
       "      <td>POLYGON ((497887.4 6747662.4, 497907.2 6747658...</td>\n",
       "      <td>721910000</td>\n",
       "    </tr>\n",
       "    <tr>\n",
       "      <th>1</th>\n",
       "      <td>77248</td>\n",
       "      <td>POLYGON ((685757.7 6868592.3, 685832.5 6868319...</td>\n",
       "      <td>772480000</td>\n",
       "    </tr>\n",
       "    <tr>\n",
       "      <th>2</th>\n",
       "      <td>51426</td>\n",
       "      <td>POLYGON ((757292.9 6847598.4, 757334.3 6847081...</td>\n",
       "      <td>514260000</td>\n",
       "    </tr>\n",
       "    <tr>\n",
       "      <th>3</th>\n",
       "      <td>81199</td>\n",
       "      <td>POLYGON ((646146.9 6328153.2, 646124.9 6328229...</td>\n",
       "      <td>811990000</td>\n",
       "    </tr>\n",
       "    <tr>\n",
       "      <th>4</th>\n",
       "      <td>59225</td>\n",
       "      <td>POLYGON ((767596 7022269.1, 767242.2 7022129.4...</td>\n",
       "      <td>592250102</td>\n",
       "    </tr>\n",
       "    <tr>\n",
       "      <th>...</th>\n",
       "      <td>...</td>\n",
       "      <td>...</td>\n",
       "      <td>...</td>\n",
       "    </tr>\n",
       "    <tr>\n",
       "      <th>49399</th>\n",
       "      <td>97307</td>\n",
       "      <td>POLYGON ((351503 534810.5, 351509.2 534806.5, ...</td>\n",
       "      <td>973070105</td>\n",
       "    </tr>\n",
       "    <tr>\n",
       "      <th>49400</th>\n",
       "      <td>97311</td>\n",
       "      <td>POLYGON ((164025.4 609416.5, 164105.7 609443.7...</td>\n",
       "      <td>973110101</td>\n",
       "    </tr>\n",
       "    <tr>\n",
       "      <th>49401</th>\n",
       "      <td>97307</td>\n",
       "      <td>POLYGON ((348751.6 542027.1, 348758.9 542017.3...</td>\n",
       "      <td>973070108</td>\n",
       "    </tr>\n",
       "    <tr>\n",
       "      <th>49402</th>\n",
       "      <td>97362</td>\n",
       "      <td>POLYGON ((130962.6 457860.7, 131036.1 457823.7...</td>\n",
       "      <td>973620000</td>\n",
       "    </tr>\n",
       "    <tr>\n",
       "      <th>49403</th>\n",
       "      <td>97360</td>\n",
       "      <td>POLYGON ((169586.1 509196.4, 169560.8 508912, ...</td>\n",
       "      <td>973600000</td>\n",
       "    </tr>\n",
       "  </tbody>\n",
       "</table>\n",
       "<p>49404 rows × 3 columns</p>\n",
       "</div>"
      ],
      "text/plain": [
       "      code commune                                       contour iris  \\\n",
       "0            72191  POLYGON ((497887.4 6747662.4, 497907.2 6747658...   \n",
       "1            77248  POLYGON ((685757.7 6868592.3, 685832.5 6868319...   \n",
       "2            51426  POLYGON ((757292.9 6847598.4, 757334.3 6847081...   \n",
       "3            81199  POLYGON ((646146.9 6328153.2, 646124.9 6328229...   \n",
       "4            59225  POLYGON ((767596 7022269.1, 767242.2 7022129.4...   \n",
       "...            ...                                                ...   \n",
       "49399        97307  POLYGON ((351503 534810.5, 351509.2 534806.5, ...   \n",
       "49400        97311  POLYGON ((164025.4 609416.5, 164105.7 609443.7...   \n",
       "49401        97307  POLYGON ((348751.6 542027.1, 348758.9 542017.3...   \n",
       "49402        97362  POLYGON ((130962.6 457860.7, 131036.1 457823.7...   \n",
       "49403        97360  POLYGON ((169586.1 509196.4, 169560.8 508912, ...   \n",
       "\n",
       "            iris  \n",
       "0      721910000  \n",
       "1      772480000  \n",
       "2      514260000  \n",
       "3      811990000  \n",
       "4      592250102  \n",
       "...          ...  \n",
       "49399  973070105  \n",
       "49400  973110101  \n",
       "49401  973070108  \n",
       "49402  973620000  \n",
       "49403  973600000  \n",
       "\n",
       "[49404 rows x 3 columns]"
      ]
     },
     "execution_count": 32,
     "metadata": {},
     "output_type": "execute_result"
    }
   ],
   "source": [
    "listcc=[]\n",
    "listshape=[]\n",
    "listiris=[]\n",
    "\n",
    "for i in range(len(shapes_metro)):\n",
    "    cc=iris_metro_df.loc[i,\"INSEE_COM\"]\n",
    "    poly=shapely.geometry.Polygon(shapes_metro[i].points)\n",
    "    iris=iris_metro_df.loc[i,\"CODE_IRIS\"]\n",
    "    listcc.append(cc)\n",
    "    listshape.append(poly)\n",
    "    listiris.append(iris)\n",
    "    \n",
    "for i in range(len(shapes_guad)):\n",
    "    cc=iris_guad_df.loc[i,\"INSEE_COM\"]\n",
    "    poly=shapely.geometry.Polygon(shapes_guad[i].points)\n",
    "    iris=iris_guad_df.loc[i,\"CODE_IRIS\"]\n",
    "    listcc.append(cc)\n",
    "    listshape.append(poly)\n",
    "    listiris.append(iris)\n",
    "\n",
    "for i in range(len(shapes_mart)):\n",
    "    cc=iris_mart_df.loc[i,\"INSEE_COM\"]\n",
    "    poly=shapely.geometry.Polygon(shapes_mart[i].points)\n",
    "    iris=iris_mart_df.loc[i,\"CODE_IRIS\"]\n",
    "    listcc.append(cc)\n",
    "    listshape.append(poly)\n",
    "    listiris.append(iris)\n",
    "    \n",
    "for i in range(len(shapes_may)):\n",
    "    cc=iris_may_df.loc[i,\"INSEE_COM\"]\n",
    "    poly=shapely.geometry.Polygon(shapes_may[i].points)\n",
    "    iris=iris_may_df.loc[i,\"CODE_IRIS\"]\n",
    "    listcc.append(cc)\n",
    "    listshape.append(poly)\n",
    "    listiris.append(iris)\n",
    "    \n",
    "for i in range(len(shapes_reu)):\n",
    "    cc=iris_reu_df.loc[i,\"INSEE_COM\"]\n",
    "    poly=shapely.geometry.Polygon(shapes_reu[i].points)\n",
    "    iris=iris_reu_df.loc[i,\"CODE_IRIS\"]\n",
    "    listcc.append(cc)\n",
    "    listshape.append(poly)\n",
    "    listiris.append(iris)\n",
    "    \n",
    "for i in range(len(shapes_guy)):\n",
    "    cc=iris_guy_df.loc[i,\"INSEE_COM\"]\n",
    "    poly=shapely.geometry.Polygon(shapes_guy[i].points)\n",
    "    iris=iris_guy_df.loc[i,\"CODE_IRIS\"]\n",
    "    listcc.append(cc)\n",
    "    listshape.append(poly)\n",
    "    listiris.append(iris)\n",
    "\n",
    "communes=pd.DataFrame({'code commune':listcc, 'contour iris':listshape, 'iris':listiris})\n",
    "communes"
   ]
  },
  {
   "cell_type": "code",
   "execution_count": 122,
   "metadata": {},
   "outputs": [
    {
     "data": {
      "text/plain": [
       "'010530604'"
      ]
     },
     "execution_count": 122,
     "metadata": {},
     "output_type": "execute_result"
    }
   ],
   "source": [
    "#On prend un couple de coordonnées\n",
    "def iris_commune(i):\n",
    "    x2,y2=0,0\n",
    "    cc=str(siren_without_auto.loc[i,\"codeCommuneEtablissement\"])\n",
    "    if len(cc)==4:\n",
    "        cc='0'+cc\n",
    "    recherche_iris=communes.loc[communes[\"code commune\"]==cc]\n",
    "    if len(recherche_iris) == 1:\n",
    "        return recherche_iris.iloc[0,2]\n",
    "    else:\n",
    "        poly=list(recherche_iris.iloc[:,1])\n",
    "        tree=STRtree(poly)\n",
    "        lat=siren_without_auto.loc[i,\"latitude\"]\n",
    "        lon=siren_without_auto.loc[i,\"longitude\"]\n",
    "        if cc[:2]=='97':\n",
    "            if cc[2]=='1':\n",
    "                x2,y2 = transform(WGS_Proj,RGAF09UTM20_Proj,lat,lon)\n",
    "            elif cc[2]=='2':\n",
    "                x2,y2 = transform(WGS_Proj,RGAF09UTM20_Proj,lat,lon)\n",
    "            elif cc[2]=='3':\n",
    "                x2,y2 = transform(WGS_Proj,RGFG95UTM22_Proj,lat,lon)\n",
    "            elif cc[2]=='4':\n",
    "                x2,y2 = transform(WGS_Proj,RGR92UTM40S_Proj,lat,lon)\n",
    "            elif cc[2]=='5':\n",
    "                x2,y2 = transform(WGS_Proj,RGM04UTM38S_Proj,lat,lon)\n",
    "        else:\n",
    "            x2,y2 = transform(WGS_Proj,L93_Proj,lat,lon)\n",
    "        query_geom=shapely.geometry.Point(x2,y2)\n",
    "        ir=tree.query(query_geom)\n",
    "        if ir==[]:\n",
    "            return None\n",
    "        return recherche_iris.loc[recherche_iris[\"contour iris\"]==ir[0]].iloc[0,2]\n",
    "\n",
    "iris_commune(4)"
   ]
  },
  {
   "cell_type": "code",
   "execution_count": 56,
   "metadata": {},
   "outputs": [],
   "source": [
    "def iris_commune_boucle(i):\n",
    "    l=[]\n",
    "    for i in range(i):\n",
    "        l.append(iris_commune(i))\n",
    "    return pd.Series(l)\n",
    "        "
   ]
  },
  {
   "cell_type": "code",
   "execution_count": 123,
   "metadata": {},
   "outputs": [
    {
     "data": {
      "text/plain": [
       "0     013760000\n",
       "1     212950000\n",
       "2     011340000\n",
       "3     010570000\n",
       "4     010530604\n",
       "        ...    \n",
       "95    633000111\n",
       "96    682940000\n",
       "97    692780000\n",
       "98    692640402\n",
       "99    693830401\n",
       "Length: 100, dtype: object"
      ]
     },
     "execution_count": 123,
     "metadata": {},
     "output_type": "execute_result"
    }
   ],
   "source": [
    "iris_commune_boucle()"
   ]
  },
  {
   "cell_type": "code",
   "execution_count": 196,
   "metadata": {},
   "outputs": [
    {
     "name": "stdout",
     "output_type": "stream",
     "text": [
      "6.201423406600952\n"
     ]
    },
    {
     "name": "stderr",
     "output_type": "stream",
     "text": [
      "/home/guera/.local/lib/python3.6/site-packages/ipykernel_launcher.py:4: SettingWithCopyWarning: \n",
      "A value is trying to be set on a copy of a slice from a DataFrame.\n",
      "Try using .loc[row_indexer,col_indexer] = value instead\n",
      "\n",
      "See the caveats in the documentation: https://pandas.pydata.org/pandas-docs/stable/user_guide/indexing.html#returning-a-view-versus-a-copy\n",
      "  after removing the cwd from sys.path.\n"
     ]
    },
    {
     "data": {
      "text/html": [
       "<div>\n",
       "<style scoped>\n",
       "    .dataframe tbody tr th:only-of-type {\n",
       "        vertical-align: middle;\n",
       "    }\n",
       "\n",
       "    .dataframe tbody tr th {\n",
       "        vertical-align: top;\n",
       "    }\n",
       "\n",
       "    .dataframe thead th {\n",
       "        text-align: right;\n",
       "    }\n",
       "</style>\n",
       "<table border=\"1\" class=\"dataframe\">\n",
       "  <thead>\n",
       "    <tr style=\"text-align: right;\">\n",
       "      <th></th>\n",
       "      <th>siren</th>\n",
       "      <th>siret</th>\n",
       "      <th>codeCommuneEtablissement</th>\n",
       "      <th>longitude</th>\n",
       "      <th>latitude</th>\n",
       "      <th>categorieJuridiqueUniteLegale</th>\n",
       "      <th>IRIS</th>\n",
       "    </tr>\n",
       "  </thead>\n",
       "  <tbody>\n",
       "    <tr>\n",
       "      <th>0</th>\n",
       "      <td>15850944</td>\n",
       "      <td>1585094400024</td>\n",
       "      <td>1376</td>\n",
       "      <td>4.989048</td>\n",
       "      <td>45.823935</td>\n",
       "      <td>5720</td>\n",
       "      <td>013760000</td>\n",
       "    </tr>\n",
       "    <tr>\n",
       "      <th>1</th>\n",
       "      <td>15850944</td>\n",
       "      <td>1585094400016</td>\n",
       "      <td>21295</td>\n",
       "      <td>4.992864</td>\n",
       "      <td>47.228989</td>\n",
       "      <td>5720</td>\n",
       "      <td>212950000</td>\n",
       "    </tr>\n",
       "    <tr>\n",
       "      <th>2</th>\n",
       "      <td>15851793</td>\n",
       "      <td>1585179300479</td>\n",
       "      <td>1134</td>\n",
       "      <td>4.904811</td>\n",
       "      <td>46.282463</td>\n",
       "      <td>5699</td>\n",
       "      <td>011340000</td>\n",
       "    </tr>\n",
       "    <tr>\n",
       "      <th>3</th>\n",
       "      <td>15851793</td>\n",
       "      <td>1585179300743</td>\n",
       "      <td>1057</td>\n",
       "      <td>4.913975</td>\n",
       "      <td>46.407388</td>\n",
       "      <td>5699</td>\n",
       "      <td>010570000</td>\n",
       "    </tr>\n",
       "    <tr>\n",
       "      <th>4</th>\n",
       "      <td>15851793</td>\n",
       "      <td>1585179300917</td>\n",
       "      <td>1053</td>\n",
       "      <td>5.228366</td>\n",
       "      <td>46.220760</td>\n",
       "      <td>5699</td>\n",
       "      <td>010530604</td>\n",
       "    </tr>\n",
       "    <tr>\n",
       "      <th>...</th>\n",
       "      <td>...</td>\n",
       "      <td>...</td>\n",
       "      <td>...</td>\n",
       "      <td>...</td>\n",
       "      <td>...</td>\n",
       "      <td>...</td>\n",
       "      <td>...</td>\n",
       "    </tr>\n",
       "    <tr>\n",
       "      <th>11810228</th>\n",
       "      <td>882702632</td>\n",
       "      <td>88270263200010</td>\n",
       "      <td>NaN</td>\n",
       "      <td>NaN</td>\n",
       "      <td>NaN</td>\n",
       "      <td>3220</td>\n",
       "      <td>NaN</td>\n",
       "    </tr>\n",
       "    <tr>\n",
       "      <th>11810229</th>\n",
       "      <td>946250693</td>\n",
       "      <td>94625069300029</td>\n",
       "      <td>NaN</td>\n",
       "      <td>NaN</td>\n",
       "      <td>NaN</td>\n",
       "      <td>3120</td>\n",
       "      <td>NaN</td>\n",
       "    </tr>\n",
       "    <tr>\n",
       "      <th>11810231</th>\n",
       "      <td>950007575</td>\n",
       "      <td>95000757500018</td>\n",
       "      <td>NaN</td>\n",
       "      <td>NaN</td>\n",
       "      <td>NaN</td>\n",
       "      <td>3120</td>\n",
       "      <td>NaN</td>\n",
       "    </tr>\n",
       "    <tr>\n",
       "      <th>11810232</th>\n",
       "      <td>950051607</td>\n",
       "      <td>95005160700014</td>\n",
       "      <td>NaN</td>\n",
       "      <td>NaN</td>\n",
       "      <td>NaN</td>\n",
       "      <td>3220</td>\n",
       "      <td>NaN</td>\n",
       "    </tr>\n",
       "    <tr>\n",
       "      <th>11810234</th>\n",
       "      <td>999990526</td>\n",
       "      <td>99999052600017</td>\n",
       "      <td>NaN</td>\n",
       "      <td>NaN</td>\n",
       "      <td>NaN</td>\n",
       "      <td>3220</td>\n",
       "      <td>NaN</td>\n",
       "    </tr>\n",
       "  </tbody>\n",
       "</table>\n",
       "<p>7383430 rows × 7 columns</p>\n",
       "</div>"
      ],
      "text/plain": [
       "              siren           siret codeCommuneEtablissement  longitude  \\\n",
       "0          15850944   1585094400024                     1376   4.989048   \n",
       "1          15850944   1585094400016                    21295   4.992864   \n",
       "2          15851793   1585179300479                     1134   4.904811   \n",
       "3          15851793   1585179300743                     1057   4.913975   \n",
       "4          15851793   1585179300917                     1053   5.228366   \n",
       "...             ...             ...                      ...        ...   \n",
       "11810228  882702632  88270263200010                      NaN        NaN   \n",
       "11810229  946250693  94625069300029                      NaN        NaN   \n",
       "11810231  950007575  95000757500018                      NaN        NaN   \n",
       "11810232  950051607  95005160700014                      NaN        NaN   \n",
       "11810234  999990526  99999052600017                      NaN        NaN   \n",
       "\n",
       "           latitude  categorieJuridiqueUniteLegale       IRIS  \n",
       "0         45.823935                           5720  013760000  \n",
       "1         47.228989                           5720  212950000  \n",
       "2         46.282463                           5699  011340000  \n",
       "3         46.407388                           5699  010570000  \n",
       "4         46.220760                           5699  010530604  \n",
       "...             ...                            ...        ...  \n",
       "11810228        NaN                           3220        NaN  \n",
       "11810229        NaN                           3120        NaN  \n",
       "11810231        NaN                           3120        NaN  \n",
       "11810232        NaN                           3220        NaN  \n",
       "11810234        NaN                           3220        NaN  \n",
       "\n",
       "[7383430 rows x 7 columns]"
      ]
     },
     "execution_count": 196,
     "metadata": {},
     "output_type": "execute_result"
    }
   ],
   "source": [
    "def time_commune():\n",
    "    t0=time.time()\n",
    "\n",
    "    siren_without_auto[\"IRIS\"]=iris_commune_boucle(100)\n",
    "    t1=time.time()\n",
    "    return(t1-t0)\n",
    "\n",
    "print(time_commune())    \n",
    "siren_without_auto"
   ]
  },
  {
   "cell_type": "code",
   "execution_count": 41,
   "metadata": {},
   "outputs": [
    {
     "data": {
      "text/plain": [
       "'260040000'"
      ]
     },
     "execution_count": 41,
     "metadata": {},
     "output_type": "execute_result"
    }
   ],
   "source": [
    "def iris_commune_bis(lat,lon,cc):\n",
    "    cc=str(cc)\n",
    "    if len(cc)==4:\n",
    "        cc='0'+cc\n",
    "    recherche_iris=communes.loc[communes[\"code commune\"]==cc]\n",
    "    if len(recherche_iris) == 1:\n",
    "        return recherche_iris.iloc[0,2]\n",
    "    else:\n",
    "        poly=list(recherche_iris.iloc[:,1])\n",
    "        tree=STRtree(poly)\n",
    "        if cc[:2]=='97':\n",
    "            if cc[2]=='1':\n",
    "                x2,y2 = transform(WGS_Proj,RGAF09UTM20_Proj,lat,lon)\n",
    "            elif cc[2]=='2':\n",
    "                x2,y2 = transform(WGS_Proj,RGAF09UTM20_Proj,lat,lon)\n",
    "            elif cc[2]=='3':\n",
    "                x2,y2 = transform(WGS_Proj,RGFG95UTM22_Proj,lat,lon)\n",
    "            elif cc[2]=='4':\n",
    "                x2,y2 = transform(WGS_Proj,RGR92UTM40S_Proj,lat,lon)\n",
    "            elif cc[2]=='5':\n",
    "                x2,y2 = transform(WGS_Proj,RGM04UTM38S_Proj,lat,lon)\n",
    "        else:\n",
    "            x2,y2 = transform(WGS_Proj,L93_Proj,lat,lon)\n",
    "        query_geom=shapely.geometry.Point(x2,y2)\n",
    "        ir=tree.query(query_geom)\n",
    "        return recherche_iris.loc[recherche_iris[\"contour iris\"]==ir[0]].iloc[0,2]\n",
    "\n",
    "iris_commune_bis(45,5,26004)"
   ]
  },
  {
   "cell_type": "code",
   "execution_count": 52,
   "metadata": {},
   "outputs": [
    {
     "name": "stdout",
     "output_type": "stream",
     "text": [
      "8.119361877441406\n"
     ]
    },
    {
     "data": {
      "text/html": [
       "<div>\n",
       "<style scoped>\n",
       "    .dataframe tbody tr th:only-of-type {\n",
       "        vertical-align: middle;\n",
       "    }\n",
       "\n",
       "    .dataframe tbody tr th {\n",
       "        vertical-align: top;\n",
       "    }\n",
       "\n",
       "    .dataframe thead th {\n",
       "        text-align: right;\n",
       "    }\n",
       "</style>\n",
       "<table border=\"1\" class=\"dataframe\">\n",
       "  <thead>\n",
       "    <tr style=\"text-align: right;\">\n",
       "      <th></th>\n",
       "      <th>siren</th>\n",
       "      <th>siret</th>\n",
       "      <th>codeCommuneEtablissement</th>\n",
       "      <th>longitude</th>\n",
       "      <th>latitude</th>\n",
       "      <th>categorieJuridiqueUniteLegale</th>\n",
       "      <th>IRIS</th>\n",
       "    </tr>\n",
       "  </thead>\n",
       "  <tbody>\n",
       "    <tr>\n",
       "      <th>0</th>\n",
       "      <td>15850944</td>\n",
       "      <td>1585094400024</td>\n",
       "      <td>1376</td>\n",
       "      <td>4.989048</td>\n",
       "      <td>45.823935</td>\n",
       "      <td>5720</td>\n",
       "      <td>013760000</td>\n",
       "    </tr>\n",
       "    <tr>\n",
       "      <th>1</th>\n",
       "      <td>15850944</td>\n",
       "      <td>1585094400016</td>\n",
       "      <td>21295</td>\n",
       "      <td>4.992864</td>\n",
       "      <td>47.228989</td>\n",
       "      <td>5720</td>\n",
       "      <td>212950000</td>\n",
       "    </tr>\n",
       "    <tr>\n",
       "      <th>2</th>\n",
       "      <td>15851793</td>\n",
       "      <td>1585179300479</td>\n",
       "      <td>1134</td>\n",
       "      <td>4.904811</td>\n",
       "      <td>46.282463</td>\n",
       "      <td>5699</td>\n",
       "      <td>011340000</td>\n",
       "    </tr>\n",
       "    <tr>\n",
       "      <th>3</th>\n",
       "      <td>15851793</td>\n",
       "      <td>1585179300743</td>\n",
       "      <td>1057</td>\n",
       "      <td>4.913975</td>\n",
       "      <td>46.407388</td>\n",
       "      <td>5699</td>\n",
       "      <td>010570000</td>\n",
       "    </tr>\n",
       "    <tr>\n",
       "      <th>4</th>\n",
       "      <td>15851793</td>\n",
       "      <td>1585179300917</td>\n",
       "      <td>1053</td>\n",
       "      <td>5.228366</td>\n",
       "      <td>46.220760</td>\n",
       "      <td>5699</td>\n",
       "      <td>010530604</td>\n",
       "    </tr>\n",
       "    <tr>\n",
       "      <th>...</th>\n",
       "      <td>...</td>\n",
       "      <td>...</td>\n",
       "      <td>...</td>\n",
       "      <td>...</td>\n",
       "      <td>...</td>\n",
       "      <td>...</td>\n",
       "      <td>...</td>\n",
       "    </tr>\n",
       "    <tr>\n",
       "      <th>95</th>\n",
       "      <td>16250029</td>\n",
       "      <td>1625002900788</td>\n",
       "      <td>63300</td>\n",
       "      <td>3.146462</td>\n",
       "      <td>45.896573</td>\n",
       "      <td>5510</td>\n",
       "      <td>633000111</td>\n",
       "    </tr>\n",
       "    <tr>\n",
       "      <th>96</th>\n",
       "      <td>16250029</td>\n",
       "      <td>1625002900911</td>\n",
       "      <td>68294</td>\n",
       "      <td>NaN</td>\n",
       "      <td>NaN</td>\n",
       "      <td>5510</td>\n",
       "      <td>682940000</td>\n",
       "    </tr>\n",
       "    <tr>\n",
       "      <th>97</th>\n",
       "      <td>16250029</td>\n",
       "      <td>1625002900630</td>\n",
       "      <td>69278</td>\n",
       "      <td>4.840554</td>\n",
       "      <td>45.897925</td>\n",
       "      <td>5510</td>\n",
       "      <td>692780000</td>\n",
       "    </tr>\n",
       "    <tr>\n",
       "      <th>98</th>\n",
       "      <td>16250029</td>\n",
       "      <td>1625002900655</td>\n",
       "      <td>69264</td>\n",
       "      <td>4.718077</td>\n",
       "      <td>45.979110</td>\n",
       "      <td>5510</td>\n",
       "      <td>692640402</td>\n",
       "    </tr>\n",
       "    <tr>\n",
       "      <th>99</th>\n",
       "      <td>16250029</td>\n",
       "      <td>1625002901208</td>\n",
       "      <td>69383</td>\n",
       "      <td>4.861621</td>\n",
       "      <td>45.762351</td>\n",
       "      <td>5510</td>\n",
       "      <td>693830401</td>\n",
       "    </tr>\n",
       "  </tbody>\n",
       "</table>\n",
       "<p>100 rows × 7 columns</p>\n",
       "</div>"
      ],
      "text/plain": [
       "       siren          siret codeCommuneEtablissement  longitude   latitude  \\\n",
       "0   15850944  1585094400024                     1376   4.989048  45.823935   \n",
       "1   15850944  1585094400016                    21295   4.992864  47.228989   \n",
       "2   15851793  1585179300479                     1134   4.904811  46.282463   \n",
       "3   15851793  1585179300743                     1057   4.913975  46.407388   \n",
       "4   15851793  1585179300917                     1053   5.228366  46.220760   \n",
       "..       ...            ...                      ...        ...        ...   \n",
       "95  16250029  1625002900788                    63300   3.146462  45.896573   \n",
       "96  16250029  1625002900911                    68294        NaN        NaN   \n",
       "97  16250029  1625002900630                    69278   4.840554  45.897925   \n",
       "98  16250029  1625002900655                    69264   4.718077  45.979110   \n",
       "99  16250029  1625002901208                    69383   4.861621  45.762351   \n",
       "\n",
       "    categorieJuridiqueUniteLegale       IRIS  \n",
       "0                            5720  013760000  \n",
       "1                            5720  212950000  \n",
       "2                            5699  011340000  \n",
       "3                            5699  010570000  \n",
       "4                            5699  010530604  \n",
       "..                            ...        ...  \n",
       "95                           5510  633000111  \n",
       "96                           5510  682940000  \n",
       "97                           5510  692780000  \n",
       "98                           5510  692640402  \n",
       "99                           5510  693830401  \n",
       "\n",
       "[100 rows x 7 columns]"
      ]
     },
     "execution_count": 52,
     "metadata": {},
     "output_type": "execute_result"
    }
   ],
   "source": [
    "def time_commune_no_loop():\n",
    "    t0=time.time()\n",
    "\n",
    "    siren_without_auto[\"IRIS\"]=np.vectorize(iris_commune_bis)(siren_without_auto[\"latitude\"],siren_without_auto[\"longitude\"],siren_without_auto[\"codeCommuneEtablissement\"])\n",
    "    t1=time.time()\n",
    "    return(t1-t0)\n",
    "\n",
    "print(time_commune_no_loop())    \n",
    "siren_without_auto"
   ]
  },
  {
   "cell_type": "code",
   "execution_count": 199,
   "metadata": {},
   "outputs": [],
   "source": [
    "siren = siren_eta_geo.merge(siren_ul)\n",
    "siren_without_auto = siren.loc[siren.loc[:, \"categorieJuridiqueUniteLegale\"] != 1000]\n",
    "siren_without_auto_iris = pd.read_csv(folder+\"/data/SIREN/StockEtablissementActif_utf8_geo_iris.csv\")\n",
    "#siren_without_auto_iris = pd.DataFrame([],columns=pd.Index(['siren', 'siret', 'codeCommuneEtablissement', 'longitude', 'latitude',\n",
    "#       'categorieJuridiqueUniteLegale','IRIS']))"
   ]
  },
  {
   "cell_type": "code",
   "execution_count": 236,
   "metadata": {
    "scrolled": true
   },
   "outputs": [
    {
     "data": {
      "text/html": [
       "<div>\n",
       "<style scoped>\n",
       "    .dataframe tbody tr th:only-of-type {\n",
       "        vertical-align: middle;\n",
       "    }\n",
       "\n",
       "    .dataframe tbody tr th {\n",
       "        vertical-align: top;\n",
       "    }\n",
       "\n",
       "    .dataframe thead th {\n",
       "        text-align: right;\n",
       "    }\n",
       "</style>\n",
       "<table border=\"1\" class=\"dataframe\">\n",
       "  <thead>\n",
       "    <tr style=\"text-align: right;\">\n",
       "      <th></th>\n",
       "      <th>Unnamed: 0</th>\n",
       "      <th>Unnamed: 0.1</th>\n",
       "      <th>siren</th>\n",
       "      <th>siret</th>\n",
       "      <th>codeCommuneEtablissement</th>\n",
       "      <th>longitude</th>\n",
       "      <th>latitude</th>\n",
       "      <th>categorieJuridiqueUniteLegale</th>\n",
       "      <th>IRIS</th>\n",
       "    </tr>\n",
       "  </thead>\n",
       "  <tbody>\n",
       "    <tr>\n",
       "      <th>0</th>\n",
       "      <td>0.0</td>\n",
       "      <td>0.0</td>\n",
       "      <td>15850944</td>\n",
       "      <td>1585094400024</td>\n",
       "      <td>1376</td>\n",
       "      <td>4.989048</td>\n",
       "      <td>45.823935</td>\n",
       "      <td>5720</td>\n",
       "      <td>013760000</td>\n",
       "    </tr>\n",
       "    <tr>\n",
       "      <th>1</th>\n",
       "      <td>1.0</td>\n",
       "      <td>1.0</td>\n",
       "      <td>15850944</td>\n",
       "      <td>1585094400016</td>\n",
       "      <td>21295</td>\n",
       "      <td>4.992864</td>\n",
       "      <td>47.228989</td>\n",
       "      <td>5720</td>\n",
       "      <td>212950000</td>\n",
       "    </tr>\n",
       "    <tr>\n",
       "      <th>2</th>\n",
       "      <td>2.0</td>\n",
       "      <td>2.0</td>\n",
       "      <td>15851793</td>\n",
       "      <td>1585179300479</td>\n",
       "      <td>1134</td>\n",
       "      <td>4.904811</td>\n",
       "      <td>46.282463</td>\n",
       "      <td>5699</td>\n",
       "      <td>011340000</td>\n",
       "    </tr>\n",
       "    <tr>\n",
       "      <th>3</th>\n",
       "      <td>3.0</td>\n",
       "      <td>3.0</td>\n",
       "      <td>15851793</td>\n",
       "      <td>1585179300743</td>\n",
       "      <td>1057</td>\n",
       "      <td>4.913975</td>\n",
       "      <td>46.407388</td>\n",
       "      <td>5699</td>\n",
       "      <td>010570000</td>\n",
       "    </tr>\n",
       "    <tr>\n",
       "      <th>4</th>\n",
       "      <td>4.0</td>\n",
       "      <td>4.0</td>\n",
       "      <td>15851793</td>\n",
       "      <td>1585179300917</td>\n",
       "      <td>1053</td>\n",
       "      <td>5.228366</td>\n",
       "      <td>46.220760</td>\n",
       "      <td>5699</td>\n",
       "      <td>010530604</td>\n",
       "    </tr>\n",
       "    <tr>\n",
       "      <th>...</th>\n",
       "      <td>...</td>\n",
       "      <td>...</td>\n",
       "      <td>...</td>\n",
       "      <td>...</td>\n",
       "      <td>...</td>\n",
       "      <td>...</td>\n",
       "      <td>...</td>\n",
       "      <td>...</td>\n",
       "      <td>...</td>\n",
       "    </tr>\n",
       "    <tr>\n",
       "      <th>3451142</th>\n",
       "      <td>NaN</td>\n",
       "      <td>NaN</td>\n",
       "      <td>484691027</td>\n",
       "      <td>48469102700011</td>\n",
       "      <td>33199</td>\n",
       "      <td>-1.051480</td>\n",
       "      <td>44.643238</td>\n",
       "      <td>5499</td>\n",
       "      <td>331990104</td>\n",
       "    </tr>\n",
       "    <tr>\n",
       "      <th>3451143</th>\n",
       "      <td>NaN</td>\n",
       "      <td>NaN</td>\n",
       "      <td>484691258</td>\n",
       "      <td>48469125800020</td>\n",
       "      <td>33056</td>\n",
       "      <td>-0.613617</td>\n",
       "      <td>44.932458</td>\n",
       "      <td>5710</td>\n",
       "      <td>330560107</td>\n",
       "    </tr>\n",
       "    <tr>\n",
       "      <th>3451146</th>\n",
       "      <td>NaN</td>\n",
       "      <td>NaN</td>\n",
       "      <td>484692058</td>\n",
       "      <td>48469205800023</td>\n",
       "      <td>33192</td>\n",
       "      <td>-0.642574</td>\n",
       "      <td>44.776057</td>\n",
       "      <td>5499</td>\n",
       "      <td>331920108</td>\n",
       "    </tr>\n",
       "    <tr>\n",
       "      <th>3451147</th>\n",
       "      <td>NaN</td>\n",
       "      <td>NaN</td>\n",
       "      <td>484692520</td>\n",
       "      <td>48469252000014</td>\n",
       "      <td>33442</td>\n",
       "      <td>-0.235915</td>\n",
       "      <td>45.013873</td>\n",
       "      <td>6534</td>\n",
       "      <td>334420000</td>\n",
       "    </tr>\n",
       "    <tr>\n",
       "      <th>3451149</th>\n",
       "      <td>NaN</td>\n",
       "      <td>NaN</td>\n",
       "      <td>484693510</td>\n",
       "      <td>48469351000014</td>\n",
       "      <td>33122</td>\n",
       "      <td>-0.688013</td>\n",
       "      <td>44.718259</td>\n",
       "      <td>5499</td>\n",
       "      <td>331220107</td>\n",
       "    </tr>\n",
       "  </tbody>\n",
       "</table>\n",
       "<p>2200000 rows × 9 columns</p>\n",
       "</div>"
      ],
      "text/plain": [
       "         Unnamed: 0  Unnamed: 0.1      siren           siret  \\\n",
       "0               0.0           0.0   15850944   1585094400024   \n",
       "1               1.0           1.0   15850944   1585094400016   \n",
       "2               2.0           2.0   15851793   1585179300479   \n",
       "3               3.0           3.0   15851793   1585179300743   \n",
       "4               4.0           4.0   15851793   1585179300917   \n",
       "...             ...           ...        ...             ...   \n",
       "3451142         NaN           NaN  484691027  48469102700011   \n",
       "3451143         NaN           NaN  484691258  48469125800020   \n",
       "3451146         NaN           NaN  484692058  48469205800023   \n",
       "3451147         NaN           NaN  484692520  48469252000014   \n",
       "3451149         NaN           NaN  484693510  48469351000014   \n",
       "\n",
       "        codeCommuneEtablissement  longitude   latitude  \\\n",
       "0                           1376   4.989048  45.823935   \n",
       "1                          21295   4.992864  47.228989   \n",
       "2                           1134   4.904811  46.282463   \n",
       "3                           1057   4.913975  46.407388   \n",
       "4                           1053   5.228366  46.220760   \n",
       "...                          ...        ...        ...   \n",
       "3451142                    33199  -1.051480  44.643238   \n",
       "3451143                    33056  -0.613617  44.932458   \n",
       "3451146                    33192  -0.642574  44.776057   \n",
       "3451147                    33442  -0.235915  45.013873   \n",
       "3451149                    33122  -0.688013  44.718259   \n",
       "\n",
       "         categorieJuridiqueUniteLegale       IRIS  \n",
       "0                                 5720  013760000  \n",
       "1                                 5720  212950000  \n",
       "2                                 5699  011340000  \n",
       "3                                 5699  010570000  \n",
       "4                                 5699  010530604  \n",
       "...                                ...        ...  \n",
       "3451142                           5499  331990104  \n",
       "3451143                           5710  330560107  \n",
       "3451146                           5499  331920108  \n",
       "3451147                           6534  334420000  \n",
       "3451149                           5499  331220107  \n",
       "\n",
       "[2200000 rows x 9 columns]"
      ]
     },
     "execution_count": 236,
     "metadata": {},
     "output_type": "execute_result"
    }
   ],
   "source": [
    "siren_without_auto_iris"
   ]
  },
  {
   "cell_type": "code",
   "execution_count": 228,
   "metadata": {},
   "outputs": [],
   "source": [
    "def save(a,nb):\n",
    "    global siren_without_auto\n",
    "    global siren_without_auto_iris\n",
    "    l=len(siren_without_auto)\n",
    "    for j in range(nb):\n",
    "        t0=time.time()\n",
    "        df=siren_without_auto.iloc[(a + 10000*j):(a + 10000*(j+1)),:].copy()\n",
    "        df['IRIS']=0\n",
    "        for i in range(10000):\n",
    "            if (a + 10000*j + i) == l:\n",
    "                break\n",
    "            df.iloc[i,6]=iris_commune_dict(siren_without_auto.index[a + 10000*j + i])\n",
    "        t1=time.time()\n",
    "        print(t1-t0)\n",
    "        print(j+1)\n",
    "        siren_without_auto_iris=pd.concat([siren_without_auto_iris,df], axis=0)\n",
    "        siren_without_auto_iris.to_csv(folder+\"/data/SIREN/StockEtablissementActif_utf8_geo_iris.csv\")"
   ]
  },
  {
   "cell_type": "code",
   "execution_count": null,
   "metadata": {},
   "outputs": [
    {
     "name": "stdout",
     "output_type": "stream",
     "text": [
      "509.4559848308563\n",
      "0\n",
      "315.43764328956604\n",
      "1\n",
      "296.95026087760925\n",
      "2\n",
      "611.7288539409637\n",
      "3\n",
      "770.2744135856628\n",
      "4\n",
      "764.5624463558197\n",
      "5\n",
      "722.6478989124298\n",
      "6\n",
      "734.2943074703217\n",
      "7\n"
     ]
    }
   ],
   "source": [
    "save(2100000,10)"
   ]
  },
  {
   "cell_type": "code",
   "execution_count": 177,
   "metadata": {},
   "outputs": [],
   "source": [
    "d={}\n",
    "for i in range(len(communes)):\n",
    "    try:\n",
    "        (p,l)=d[communes.iloc[i,0]]\n",
    "    except:\n",
    "        p,l=[],[]\n",
    "    poly = communes.iloc[i,1]\n",
    "    iris=communes.iloc[i,2]\n",
    "    p.append(poly)\n",
    "    l.append(iris)\n",
    "    d[communes.iloc[i,0]] = (p,l)\n",
    "\n",
    "for i in d:\n",
    "    p,l=d[i]    \n",
    "    t=STRtree(p)\n",
    "    lex=dict((id(p[i]),l[i]) for i in range(len(p)))\n",
    "    d[i]=(lex,t)"
   ]
  },
  {
   "cell_type": "code",
   "execution_count": 189,
   "metadata": {},
   "outputs": [
    {
     "data": {
      "text/plain": [
       "'260040000'"
      ]
     },
     "execution_count": 189,
     "metadata": {},
     "output_type": "execute_result"
    }
   ],
   "source": [
    "list(d['26004'][0].values())[0]"
   ]
  },
  {
   "cell_type": "code",
   "execution_count": 201,
   "metadata": {},
   "outputs": [
    {
     "data": {
      "text/plain": [
       "'010530604'"
      ]
     },
     "execution_count": 201,
     "metadata": {},
     "output_type": "execute_result"
    }
   ],
   "source": [
    "def iris_commune_dict(i):\n",
    "    x2,y2=0,0\n",
    "    cc=str(siren_without_auto.loc[i,\"codeCommuneEtablissement\"])\n",
    "    if len(cc)==4:\n",
    "        cc='0'+cc\n",
    "    try:\n",
    "        lex,tree=d[cc]\n",
    "    except:\n",
    "        return None\n",
    "    if len(lex) == 1:\n",
    "        return list(lex.values())[0]\n",
    "    else:\n",
    "        lat=siren_without_auto.loc[i,\"latitude\"]\n",
    "        lon=siren_without_auto.loc[i,\"longitude\"]\n",
    "        if cc[:2]=='97':\n",
    "            if cc[2]=='1':\n",
    "                x2,y2 = transform(WGS_Proj,RGAF09UTM20_Proj,lat,lon)\n",
    "            elif cc[2]=='2':\n",
    "                x2,y2 = transform(WGS_Proj,RGAF09UTM20_Proj,lat,lon)\n",
    "            elif cc[2]=='3':\n",
    "                x2,y2 = transform(WGS_Proj,RGFG95UTM22_Proj,lat,lon)\n",
    "            elif cc[2]=='4':\n",
    "                x2,y2 = transform(WGS_Proj,RGR92UTM40S_Proj,lat,lon)\n",
    "            elif cc[2]=='5':\n",
    "                x2,y2 = transform(WGS_Proj,RGM04UTM38S_Proj,lat,lon)\n",
    "        else:\n",
    "            x2,y2 = transform(WGS_Proj,L93_Proj,lat,lon)\n",
    "        query_geom=shapely.geometry.Point(x2,y2)\n",
    "        ir=tree.query(query_geom)\n",
    "        if ir==[]:\n",
    "            return None\n",
    "        return lex[id(ir[0])]\n",
    "\n",
    "iris_commune_dict(4)"
   ]
  },
  {
   "cell_type": "code",
   "execution_count": 197,
   "metadata": {},
   "outputs": [
    {
     "name": "stderr",
     "output_type": "stream",
     "text": [
      "/home/guera/.local/lib/python3.6/site-packages/ipykernel_launcher.py:10: SettingWithCopyWarning: \n",
      "A value is trying to be set on a copy of a slice from a DataFrame.\n",
      "Try using .loc[row_indexer,col_indexer] = value instead\n",
      "\n",
      "See the caveats in the documentation: https://pandas.pydata.org/pandas-docs/stable/user_guide/indexing.html#returning-a-view-versus-a-copy\n",
      "  # Remove the CWD from sys.path while we load stuff.\n"
     ]
    },
    {
     "name": "stdout",
     "output_type": "stream",
     "text": [
      "5.2807252407073975\n",
      "6.457460880279541\n"
     ]
    },
    {
     "name": "stderr",
     "output_type": "stream",
     "text": [
      "/home/guera/.local/lib/python3.6/site-packages/ipykernel_launcher.py:4: SettingWithCopyWarning: \n",
      "A value is trying to be set on a copy of a slice from a DataFrame.\n",
      "Try using .loc[row_indexer,col_indexer] = value instead\n",
      "\n",
      "See the caveats in the documentation: https://pandas.pydata.org/pandas-docs/stable/user_guide/indexing.html#returning-a-view-versus-a-copy\n",
      "  after removing the cwd from sys.path.\n"
     ]
    },
    {
     "data": {
      "text/html": [
       "<div>\n",
       "<style scoped>\n",
       "    .dataframe tbody tr th:only-of-type {\n",
       "        vertical-align: middle;\n",
       "    }\n",
       "\n",
       "    .dataframe tbody tr th {\n",
       "        vertical-align: top;\n",
       "    }\n",
       "\n",
       "    .dataframe thead th {\n",
       "        text-align: right;\n",
       "    }\n",
       "</style>\n",
       "<table border=\"1\" class=\"dataframe\">\n",
       "  <thead>\n",
       "    <tr style=\"text-align: right;\">\n",
       "      <th></th>\n",
       "      <th>siren</th>\n",
       "      <th>siret</th>\n",
       "      <th>codeCommuneEtablissement</th>\n",
       "      <th>longitude</th>\n",
       "      <th>latitude</th>\n",
       "      <th>categorieJuridiqueUniteLegale</th>\n",
       "      <th>IRIS</th>\n",
       "    </tr>\n",
       "  </thead>\n",
       "  <tbody>\n",
       "    <tr>\n",
       "      <th>0</th>\n",
       "      <td>15850944</td>\n",
       "      <td>1585094400024</td>\n",
       "      <td>1376</td>\n",
       "      <td>4.989048</td>\n",
       "      <td>45.823935</td>\n",
       "      <td>5720</td>\n",
       "      <td>013760000</td>\n",
       "    </tr>\n",
       "    <tr>\n",
       "      <th>1</th>\n",
       "      <td>15850944</td>\n",
       "      <td>1585094400016</td>\n",
       "      <td>21295</td>\n",
       "      <td>4.992864</td>\n",
       "      <td>47.228989</td>\n",
       "      <td>5720</td>\n",
       "      <td>212950000</td>\n",
       "    </tr>\n",
       "    <tr>\n",
       "      <th>2</th>\n",
       "      <td>15851793</td>\n",
       "      <td>1585179300479</td>\n",
       "      <td>1134</td>\n",
       "      <td>4.904811</td>\n",
       "      <td>46.282463</td>\n",
       "      <td>5699</td>\n",
       "      <td>011340000</td>\n",
       "    </tr>\n",
       "    <tr>\n",
       "      <th>3</th>\n",
       "      <td>15851793</td>\n",
       "      <td>1585179300743</td>\n",
       "      <td>1057</td>\n",
       "      <td>4.913975</td>\n",
       "      <td>46.407388</td>\n",
       "      <td>5699</td>\n",
       "      <td>010570000</td>\n",
       "    </tr>\n",
       "    <tr>\n",
       "      <th>4</th>\n",
       "      <td>15851793</td>\n",
       "      <td>1585179300917</td>\n",
       "      <td>1053</td>\n",
       "      <td>5.228366</td>\n",
       "      <td>46.220760</td>\n",
       "      <td>5699</td>\n",
       "      <td>010530604</td>\n",
       "    </tr>\n",
       "    <tr>\n",
       "      <th>...</th>\n",
       "      <td>...</td>\n",
       "      <td>...</td>\n",
       "      <td>...</td>\n",
       "      <td>...</td>\n",
       "      <td>...</td>\n",
       "      <td>...</td>\n",
       "      <td>...</td>\n",
       "    </tr>\n",
       "    <tr>\n",
       "      <th>11810228</th>\n",
       "      <td>882702632</td>\n",
       "      <td>88270263200010</td>\n",
       "      <td>NaN</td>\n",
       "      <td>NaN</td>\n",
       "      <td>NaN</td>\n",
       "      <td>3220</td>\n",
       "      <td>NaN</td>\n",
       "    </tr>\n",
       "    <tr>\n",
       "      <th>11810229</th>\n",
       "      <td>946250693</td>\n",
       "      <td>94625069300029</td>\n",
       "      <td>NaN</td>\n",
       "      <td>NaN</td>\n",
       "      <td>NaN</td>\n",
       "      <td>3120</td>\n",
       "      <td>NaN</td>\n",
       "    </tr>\n",
       "    <tr>\n",
       "      <th>11810231</th>\n",
       "      <td>950007575</td>\n",
       "      <td>95000757500018</td>\n",
       "      <td>NaN</td>\n",
       "      <td>NaN</td>\n",
       "      <td>NaN</td>\n",
       "      <td>3120</td>\n",
       "      <td>NaN</td>\n",
       "    </tr>\n",
       "    <tr>\n",
       "      <th>11810232</th>\n",
       "      <td>950051607</td>\n",
       "      <td>95005160700014</td>\n",
       "      <td>NaN</td>\n",
       "      <td>NaN</td>\n",
       "      <td>NaN</td>\n",
       "      <td>3220</td>\n",
       "      <td>NaN</td>\n",
       "    </tr>\n",
       "    <tr>\n",
       "      <th>11810234</th>\n",
       "      <td>999990526</td>\n",
       "      <td>99999052600017</td>\n",
       "      <td>NaN</td>\n",
       "      <td>NaN</td>\n",
       "      <td>NaN</td>\n",
       "      <td>3220</td>\n",
       "      <td>NaN</td>\n",
       "    </tr>\n",
       "  </tbody>\n",
       "</table>\n",
       "<p>7383430 rows × 7 columns</p>\n",
       "</div>"
      ],
      "text/plain": [
       "              siren           siret codeCommuneEtablissement  longitude  \\\n",
       "0          15850944   1585094400024                     1376   4.989048   \n",
       "1          15850944   1585094400016                    21295   4.992864   \n",
       "2          15851793   1585179300479                     1134   4.904811   \n",
       "3          15851793   1585179300743                     1057   4.913975   \n",
       "4          15851793   1585179300917                     1053   5.228366   \n",
       "...             ...             ...                      ...        ...   \n",
       "11810228  882702632  88270263200010                      NaN        NaN   \n",
       "11810229  946250693  94625069300029                      NaN        NaN   \n",
       "11810231  950007575  95000757500018                      NaN        NaN   \n",
       "11810232  950051607  95005160700014                      NaN        NaN   \n",
       "11810234  999990526  99999052600017                      NaN        NaN   \n",
       "\n",
       "           latitude  categorieJuridiqueUniteLegale       IRIS  \n",
       "0         45.823935                           5720  013760000  \n",
       "1         47.228989                           5720  212950000  \n",
       "2         46.282463                           5699  011340000  \n",
       "3         46.407388                           5699  010570000  \n",
       "4         46.220760                           5699  010530604  \n",
       "...             ...                            ...        ...  \n",
       "11810228        NaN                           3220        NaN  \n",
       "11810229        NaN                           3120        NaN  \n",
       "11810231        NaN                           3120        NaN  \n",
       "11810232        NaN                           3220        NaN  \n",
       "11810234        NaN                           3220        NaN  \n",
       "\n",
       "[7383430 rows x 7 columns]"
      ]
     },
     "execution_count": 197,
     "metadata": {},
     "output_type": "execute_result"
    }
   ],
   "source": [
    "def iris_commune_boucle_dict(nb):\n",
    "    l=[]\n",
    "    for i in range(nb):\n",
    "        l.append(iris_commune_dict(i))\n",
    "    return pd.Series(l)\n",
    "\n",
    "def time_commune_dict():\n",
    "    t0=time.time()\n",
    "\n",
    "    siren_without_auto[\"IRIS\"]=iris_commune_boucle_dict(100)\n",
    "    t1=time.time()\n",
    "    return(t1-t0)\n",
    "\n",
    "print(time_commune_dict())    \n",
    "siren_without_auto\n",
    "\n",
    "\n",
    "print(time_commune())    \n",
    "siren_without_auto"
   ]
  }
 ],
 "metadata": {
  "kernelspec": {
   "display_name": "Python 3",
   "language": "python",
   "name": "python3"
  },
  "language_info": {
   "codemirror_mode": {
    "name": "ipython",
    "version": 3
   },
   "file_extension": ".py",
   "mimetype": "text/x-python",
   "name": "python",
   "nbconvert_exporter": "python",
   "pygments_lexer": "ipython3",
   "version": "3.6.9"
  }
 },
 "nbformat": 4,
 "nbformat_minor": 2
}
